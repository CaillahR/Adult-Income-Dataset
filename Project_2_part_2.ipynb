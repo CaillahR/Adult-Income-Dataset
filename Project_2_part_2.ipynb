{
  "nbformat": 4,
  "nbformat_minor": 0,
  "metadata": {
    "colab": {
      "provenance": [],
      "authorship_tag": "ABX9TyOJ1BSX3Kz+WNX8zFukLvQ5",
      "include_colab_link": true
    },
    "kernelspec": {
      "name": "python3",
      "display_name": "Python 3"
    },
    "language_info": {
      "name": "python"
    }
  },
  "cells": [
    {
      "cell_type": "markdown",
      "metadata": {
        "id": "view-in-github",
        "colab_type": "text"
      },
      "source": [
        "<a href=\"https://colab.research.google.com/github/CaillahR/Adult-Income-Dataset/blob/main/Project_2_part_2.ipynb\" target=\"_parent\"><img src=\"https://colab.research.google.com/assets/colab-badge.svg\" alt=\"Open In Colab\"/></a>"
      ]
    },
    {
      "cell_type": "markdown",
      "source": [
        "---\n",
        "Caillah Reed"
      ],
      "metadata": {
        "id": "33mlATnsPQEj"
      }
    },
    {
      "cell_type": "markdown",
      "source": [
        "#Import\n"
      ],
      "metadata": {
        "id": "-Kup-SHKr3wA"
      }
    },
    {
      "cell_type": "code",
      "source": [
        "import pandas as pd\n",
        "import numpy as np\n",
        "import matplotlib.pyplot as plt\n",
        "import seaborn as sns\n",
        "from sklearn.preprocessing import StandardScaler, OneHotEncoder\n",
        "from sklearn.impute import SimpleImputer\n",
        "from sklearn.compose import make_column_transformer, make_column_selector\n",
        "from sklearn.pipeline import make_pipeline\n",
        "from sklearn.model_selection import train_test_split\n",
        "from sklearn import set_config\n",
        "from sklearn.metrics import mean_absolute_error, mean_squared_error, r2_score, classification_report, ConfusionMatrixDisplay, confusion_matrix\n",
        "from sklearn.tree import DecisionTreeClassifier\n",
        "from sklearn.linear_model import LogisticRegression\n",
        "set_config(display='diagram')"
      ],
      "metadata": {
        "id": "znt0yY1ZsBQA"
      },
      "execution_count": 1,
      "outputs": []
    },
    {
      "cell_type": "markdown",
      "source": [
        "#Loading Data\n"
      ],
      "metadata": {
        "id": "LB-DRKU3NsXT"
      }
    },
    {
      "cell_type": "code",
      "source": [
        "from google.colab import drive\n",
        "drive.mount('/content/drive')\n",
        "df = pd.read_csv(\"/content/archive.zip\")"
      ],
      "metadata": {
        "colab": {
          "base_uri": "https://localhost:8080/"
        },
        "id": "MXWQ222POHXt",
        "outputId": "110ff0ac-9316-455f-c545-8eca1af4d5c7"
      },
      "execution_count": 2,
      "outputs": [
        {
          "output_type": "stream",
          "name": "stdout",
          "text": [
            "Drive already mounted at /content/drive; to attempt to forcibly remount, call drive.mount(\"/content/drive\", force_remount=True).\n"
          ]
        }
      ]
    },
    {
      "cell_type": "markdown",
      "source": [
        "#Adult Income"
      ],
      "metadata": {
        "id": "jHTCUDQZRZNQ"
      }
    },
    {
      "cell_type": "markdown",
      "source": [
        "##Objective"
      ],
      "metadata": {
        "id": "j-LtbQZ2rmiu"
      }
    },
    {
      "cell_type": "markdown",
      "source": [
        " What is the possibility in predicting the income level based on the individual’s personal information, in canada?\n",
        "\n"
      ],
      "metadata": {
        "id": "kQi8MKGavnyU"
      }
    },
    {
      "cell_type": "markdown",
      "source": [
        "##Data Dictionary"
      ],
      "metadata": {
        "id": "dU8ljr4Y3mi6"
      }
    },
    {
      "cell_type": "markdown",
      "source": [
        "- age : Age of adult in dataset\n",
        "- workclass : type of employement, (Private, Self-emp-not-inc, Self-emp-inc, Federal-gov, Local-gov, State-gov, Without-pay, Never-worked.)\n",
        "- fnlwgt : final weight. the number of people the census believes are true wages\n",
        "- education : Bachelors, Some-college, 11th, HS-grad, Prof-school, Assoc-acdm, Assoc-voc, 9th, 7th-8th, 12th, Masters, 1st-4th, 10th, Doctorate, 5th-6th, Preschool.\n",
        "- educational-num : same as education\n",
        "- marital-status : marital status\n",
        "- occupation : occupation\n",
        "- relationship : relationship to their family\n",
        "- race : race\n",
        "- gender : gender\n",
        "- sex: Female, Male.\n",
        "- capital-gain: continuous.\n",
        "- capital-loss: continuous.\n",
        "- hours-per-week: continuous.\n",
        "- native-country: People's native country"
      ],
      "metadata": {
        "id": "kn-LT-hvrqJh"
      }
    },
    {
      "cell_type": "markdown",
      "source": [
        "- The source of this data set is from [Kaggle](https://www.kaggle.com/datasets/wenruliu/adult-income-dataset)"
      ],
      "metadata": {
        "id": "DaB0Qj6dR1Y4"
      }
    },
    {
      "cell_type": "markdown",
      "source": [
        "##Droping duplicates"
      ],
      "metadata": {
        "id": "bt0WLUpOml0p"
      }
    },
    {
      "cell_type": "code",
      "source": [
        "duplicaterows = df[df.duplicated(keep='last')]\n",
        "duplicaterows"
      ],
      "metadata": {
        "colab": {
          "base_uri": "https://localhost:8080/",
          "height": 1000
        },
        "id": "rwsuUKTikYZZ",
        "outputId": "0cb7af4b-8e6d-4c2b-a864-11ec4587b493"
      },
      "execution_count": 3,
      "outputs": [
        {
          "output_type": "execute_result",
          "data": {
            "text/plain": [
              "       age         workclass  fnlwgt     education  educational-num  \\\n",
              "488     24           Private  194630     Bachelors               13   \n",
              "1319    37           Private   52870     Bachelors               13   \n",
              "1668    19           Private  130431       5th-6th                3   \n",
              "1854    22           Private  137876  Some-college               10   \n",
              "1863    20                 ?  203353  Some-college               10   \n",
              "3900    18      Self-emp-inc  378036          12th                8   \n",
              "4152    17           Private  153021          12th                8   \n",
              "5078    29                 ?   41281     Bachelors               13   \n",
              "5782    21           Private  301694       HS-grad                9   \n",
              "5907    41           Private  116391     Bachelors               13   \n",
              "6432    22                 ?  334593  Some-college               10   \n",
              "6456    19           Private  139466  Some-college               10   \n",
              "7021    30           Private  180317     Assoc-voc               11   \n",
              "7350    30           Private  111567       HS-grad                9   \n",
              "8116    19                 ?  167428  Some-college               10   \n",
              "9249    29           Private   36440     Bachelors               13   \n",
              "9825    25           Private  112835     Bachelors               13   \n",
              "10826   23           Private  250630     Bachelors               13   \n",
              "10923   23           Private  239539       HS-grad                9   \n",
              "11746   47           Private  199058  Some-college               10   \n",
              "12488   39           Private  184659       HS-grad                9   \n",
              "13504   45           Private   82797     Bachelors               13   \n",
              "14153   21           Private  243368     Preschool                1   \n",
              "14308   25           Private  308144     Bachelors               13   \n",
              "14398   19           Private  318822       HS-grad                9   \n",
              "14487   31           Private  228873       HS-grad                9   \n",
              "14838   43           Private  195258       HS-grad                9   \n",
              "15323   23           Private  107882     Bachelors               13   \n",
              "18584   90           Private   52386  Some-college               10   \n",
              "20198   19           Private  251579  Some-college               10   \n",
              "20606   25           Private  308144     Bachelors               13   \n",
              "21048   21           Private  250051  Some-college               10   \n",
              "21221   38           Private  207202       HS-grad                9   \n",
              "21860   27           Private  255582       HS-grad                9   \n",
              "22086   20           Private  107658  Some-college               10   \n",
              "22123   25           Private  195994       1st-4th                2   \n",
              "23271   19           Private  138153  Some-college               10   \n",
              "23334   49  Self-emp-not-inc   43479  Some-college               10   \n",
              "24201   49           Private   31267       7th-8th                4   \n",
              "24361   21           Private  243368     Preschool                1   \n",
              "24960   28           Private  274679       Masters               14   \n",
              "26648   42           Private  204235  Some-college               10   \n",
              "28246   46           Private  133616  Some-college               10   \n",
              "29365   25           Private  195994       1st-4th                2   \n",
              "31470   19           Private  146679  Some-college               10   \n",
              "32578   46           Private  173243       HS-grad                9   \n",
              "33127   35           Private  379959       HS-grad                9   \n",
              "33256   30           Private  144593       HS-grad                9   \n",
              "33954   19           Private   97261       HS-grad                9   \n",
              "34197   44           Private  367749     Bachelors               13   \n",
              "37384   23           Private  240137       5th-6th                3   \n",
              "41905   39           Private   30916       HS-grad                9   \n",
              "\n",
              "              marital-status         occupation   relationship  \\\n",
              "488            Never-married     Prof-specialty  Not-in-family   \n",
              "1319      Married-civ-spouse    Exec-managerial        Husband   \n",
              "1668           Never-married    Farming-fishing  Not-in-family   \n",
              "1854           Never-married    Protective-serv  Not-in-family   \n",
              "1863           Never-married                  ?      Own-child   \n",
              "3900           Never-married    Farming-fishing      Own-child   \n",
              "4152           Never-married              Sales      Own-child   \n",
              "5078   Married-spouse-absent                  ?  Not-in-family   \n",
              "5782           Never-married       Craft-repair  Not-in-family   \n",
              "5907      Married-civ-spouse    Exec-managerial        Husband   \n",
              "6432           Never-married                  ?  Not-in-family   \n",
              "6456           Never-married              Sales      Own-child   \n",
              "7021                Divorced  Machine-op-inspct  Not-in-family   \n",
              "7350           Never-married       Craft-repair      Own-child   \n",
              "8116           Never-married                  ?      Own-child   \n",
              "9249           Never-married       Adm-clerical  Not-in-family   \n",
              "9825           Never-married     Prof-specialty  Not-in-family   \n",
              "10826          Never-married              Sales  Not-in-family   \n",
              "10923          Never-married  Machine-op-inspct      Own-child   \n",
              "11746     Married-civ-spouse     Prof-specialty        Husband   \n",
              "12488     Married-civ-spouse  Machine-op-inspct        Husband   \n",
              "13504     Married-civ-spouse    Exec-managerial        Husband   \n",
              "14153          Never-married    Farming-fishing  Not-in-family   \n",
              "14308          Never-married       Craft-repair  Not-in-family   \n",
              "14398          Never-married       Adm-clerical  Not-in-family   \n",
              "14487     Married-civ-spouse       Craft-repair        Husband   \n",
              "14838     Married-civ-spouse       Craft-repair        Husband   \n",
              "15323          Never-married       Adm-clerical      Own-child   \n",
              "18584          Never-married      Other-service  Not-in-family   \n",
              "20198          Never-married      Other-service      Own-child   \n",
              "20606          Never-married       Craft-repair  Not-in-family   \n",
              "21048          Never-married     Prof-specialty      Own-child   \n",
              "21221     Married-civ-spouse  Machine-op-inspct        Husband   \n",
              "21860          Never-married  Machine-op-inspct  Not-in-family   \n",
              "22086          Never-married       Tech-support  Not-in-family   \n",
              "22123          Never-married    Priv-house-serv  Not-in-family   \n",
              "23271          Never-married       Adm-clerical      Own-child   \n",
              "23334     Married-civ-spouse       Craft-repair        Husband   \n",
              "24201     Married-civ-spouse       Craft-repair        Husband   \n",
              "24361          Never-married    Farming-fishing  Not-in-family   \n",
              "24960          Never-married     Prof-specialty  Not-in-family   \n",
              "26648     Married-civ-spouse     Prof-specialty        Husband   \n",
              "28246               Divorced       Adm-clerical      Unmarried   \n",
              "29365          Never-married    Priv-house-serv  Not-in-family   \n",
              "31470          Never-married    Exec-managerial      Own-child   \n",
              "32578     Married-civ-spouse       Craft-repair        Husband   \n",
              "33127               Divorced      Other-service  Not-in-family   \n",
              "33256          Never-married      Other-service  Not-in-family   \n",
              "33954          Never-married    Farming-fishing  Not-in-family   \n",
              "34197          Never-married     Prof-specialty  Not-in-family   \n",
              "37384          Never-married  Handlers-cleaners  Not-in-family   \n",
              "41905     Married-civ-spouse       Craft-repair        Husband   \n",
              "\n",
              "                     race  gender  capital-gain  capital-loss  hours-per-week  \\\n",
              "488                 White    Male             0             0              35   \n",
              "1319                White    Male             0             0              40   \n",
              "1668                White    Male             0             0              36   \n",
              "1854                White    Male             0             0              20   \n",
              "1863                White  Female             0             0              40   \n",
              "3900                White    Male             0             0              10   \n",
              "4152                White  Female             0             0              20   \n",
              "5078                White    Male             0             0              50   \n",
              "5782                White    Male             0             0              35   \n",
              "5907                White    Male             0             0              40   \n",
              "6432                White    Male             0             0              40   \n",
              "6456                White  Female             0             0              25   \n",
              "7021                White    Male             0             0              40   \n",
              "7350                White    Male             0             0              48   \n",
              "8116                White    Male             0             0              40   \n",
              "9249                White  Female             0             0              40   \n",
              "9825                White    Male             0             0              40   \n",
              "10826               White  Female             0             0              40   \n",
              "10923  Asian-Pac-Islander    Male             0             0              40   \n",
              "11746               White    Male             0             0              40   \n",
              "12488               White    Male             0             0              40   \n",
              "13504               White    Male             0             0              45   \n",
              "14153               White    Male             0             0              50   \n",
              "14308               White    Male             0             0              40   \n",
              "14398               White  Female             0             0              40   \n",
              "14487               White    Male             0             0              40   \n",
              "14838               White    Male             0             0              40   \n",
              "15323               White  Female             0             0              40   \n",
              "18584  Asian-Pac-Islander    Male             0             0              35   \n",
              "20198               White    Male             0             0              14   \n",
              "20606               White    Male             0             0              40   \n",
              "21048               White  Female             0             0              10   \n",
              "21221               White    Male             0             0              48   \n",
              "21860               White  Female             0             0              40   \n",
              "22086               White  Female             0             0              10   \n",
              "22123               White  Female             0             0              40   \n",
              "23271               White  Female             0             0              10   \n",
              "23334               White    Male             0             0              40   \n",
              "24201               White    Male             0             0              40   \n",
              "24361               White    Male             0             0              50   \n",
              "24960               White    Male             0             0              50   \n",
              "26648               White    Male             0             0              40   \n",
              "28246               White  Female             0             0              40   \n",
              "29365               White  Female             0             0              40   \n",
              "31470               Black    Male             0             0              30   \n",
              "32578               White    Male             0             0              40   \n",
              "33127               White  Female             0             0              40   \n",
              "33256               Black    Male             0             0              40   \n",
              "33954               White    Male             0             0              40   \n",
              "34197               White  Female             0             0              45   \n",
              "37384               White    Male             0             0              55   \n",
              "41905               White    Male             0             0              40   \n",
              "\n",
              "      native-country income  \n",
              "488    United-States  <=50K  \n",
              "1319   United-States  <=50K  \n",
              "1668          Mexico  <=50K  \n",
              "1854   United-States  <=50K  \n",
              "1863   United-States  <=50K  \n",
              "3900   United-States  <=50K  \n",
              "4152   United-States  <=50K  \n",
              "5078   United-States  <=50K  \n",
              "5782          Mexico  <=50K  \n",
              "5907   United-States   >50K  \n",
              "6432   United-States  <=50K  \n",
              "6456   United-States  <=50K  \n",
              "7021   United-States  <=50K  \n",
              "7350   United-States  <=50K  \n",
              "8116   United-States  <=50K  \n",
              "9249   United-States  <=50K  \n",
              "9825   United-States  <=50K  \n",
              "10826  United-States  <=50K  \n",
              "10923    Philippines  <=50K  \n",
              "11746  United-States   >50K  \n",
              "12488  United-States  <=50K  \n",
              "13504  United-States   >50K  \n",
              "14153         Mexico  <=50K  \n",
              "14308         Mexico  <=50K  \n",
              "14398  United-States  <=50K  \n",
              "14487  United-States  <=50K  \n",
              "14838  United-States   >50K  \n",
              "15323  United-States  <=50K  \n",
              "18584  United-States  <=50K  \n",
              "20198  United-States  <=50K  \n",
              "20606         Mexico  <=50K  \n",
              "21048  United-States  <=50K  \n",
              "21221  United-States   >50K  \n",
              "21860  United-States  <=50K  \n",
              "22086  United-States  <=50K  \n",
              "22123      Guatemala  <=50K  \n",
              "23271  United-States  <=50K  \n",
              "23334  United-States  <=50K  \n",
              "24201  United-States  <=50K  \n",
              "24361         Mexico  <=50K  \n",
              "24960  United-States  <=50K  \n",
              "26648  United-States   >50K  \n",
              "28246  United-States  <=50K  \n",
              "29365      Guatemala  <=50K  \n",
              "31470  United-States  <=50K  \n",
              "32578  United-States  <=50K  \n",
              "33127  United-States  <=50K  \n",
              "33256              ?  <=50K  \n",
              "33954  United-States  <=50K  \n",
              "34197         Mexico  <=50K  \n",
              "37384         Mexico  <=50K  \n",
              "41905  United-States  <=50K  "
            ],
            "text/html": [
              "\n",
              "  <div id=\"df-e71c362b-cd03-40da-a140-e8533d788655\">\n",
              "    <div class=\"colab-df-container\">\n",
              "      <div>\n",
              "<style scoped>\n",
              "    .dataframe tbody tr th:only-of-type {\n",
              "        vertical-align: middle;\n",
              "    }\n",
              "\n",
              "    .dataframe tbody tr th {\n",
              "        vertical-align: top;\n",
              "    }\n",
              "\n",
              "    .dataframe thead th {\n",
              "        text-align: right;\n",
              "    }\n",
              "</style>\n",
              "<table border=\"1\" class=\"dataframe\">\n",
              "  <thead>\n",
              "    <tr style=\"text-align: right;\">\n",
              "      <th></th>\n",
              "      <th>age</th>\n",
              "      <th>workclass</th>\n",
              "      <th>fnlwgt</th>\n",
              "      <th>education</th>\n",
              "      <th>educational-num</th>\n",
              "      <th>marital-status</th>\n",
              "      <th>occupation</th>\n",
              "      <th>relationship</th>\n",
              "      <th>race</th>\n",
              "      <th>gender</th>\n",
              "      <th>capital-gain</th>\n",
              "      <th>capital-loss</th>\n",
              "      <th>hours-per-week</th>\n",
              "      <th>native-country</th>\n",
              "      <th>income</th>\n",
              "    </tr>\n",
              "  </thead>\n",
              "  <tbody>\n",
              "    <tr>\n",
              "      <th>488</th>\n",
              "      <td>24</td>\n",
              "      <td>Private</td>\n",
              "      <td>194630</td>\n",
              "      <td>Bachelors</td>\n",
              "      <td>13</td>\n",
              "      <td>Never-married</td>\n",
              "      <td>Prof-specialty</td>\n",
              "      <td>Not-in-family</td>\n",
              "      <td>White</td>\n",
              "      <td>Male</td>\n",
              "      <td>0</td>\n",
              "      <td>0</td>\n",
              "      <td>35</td>\n",
              "      <td>United-States</td>\n",
              "      <td>&lt;=50K</td>\n",
              "    </tr>\n",
              "    <tr>\n",
              "      <th>1319</th>\n",
              "      <td>37</td>\n",
              "      <td>Private</td>\n",
              "      <td>52870</td>\n",
              "      <td>Bachelors</td>\n",
              "      <td>13</td>\n",
              "      <td>Married-civ-spouse</td>\n",
              "      <td>Exec-managerial</td>\n",
              "      <td>Husband</td>\n",
              "      <td>White</td>\n",
              "      <td>Male</td>\n",
              "      <td>0</td>\n",
              "      <td>0</td>\n",
              "      <td>40</td>\n",
              "      <td>United-States</td>\n",
              "      <td>&lt;=50K</td>\n",
              "    </tr>\n",
              "    <tr>\n",
              "      <th>1668</th>\n",
              "      <td>19</td>\n",
              "      <td>Private</td>\n",
              "      <td>130431</td>\n",
              "      <td>5th-6th</td>\n",
              "      <td>3</td>\n",
              "      <td>Never-married</td>\n",
              "      <td>Farming-fishing</td>\n",
              "      <td>Not-in-family</td>\n",
              "      <td>White</td>\n",
              "      <td>Male</td>\n",
              "      <td>0</td>\n",
              "      <td>0</td>\n",
              "      <td>36</td>\n",
              "      <td>Mexico</td>\n",
              "      <td>&lt;=50K</td>\n",
              "    </tr>\n",
              "    <tr>\n",
              "      <th>1854</th>\n",
              "      <td>22</td>\n",
              "      <td>Private</td>\n",
              "      <td>137876</td>\n",
              "      <td>Some-college</td>\n",
              "      <td>10</td>\n",
              "      <td>Never-married</td>\n",
              "      <td>Protective-serv</td>\n",
              "      <td>Not-in-family</td>\n",
              "      <td>White</td>\n",
              "      <td>Male</td>\n",
              "      <td>0</td>\n",
              "      <td>0</td>\n",
              "      <td>20</td>\n",
              "      <td>United-States</td>\n",
              "      <td>&lt;=50K</td>\n",
              "    </tr>\n",
              "    <tr>\n",
              "      <th>1863</th>\n",
              "      <td>20</td>\n",
              "      <td>?</td>\n",
              "      <td>203353</td>\n",
              "      <td>Some-college</td>\n",
              "      <td>10</td>\n",
              "      <td>Never-married</td>\n",
              "      <td>?</td>\n",
              "      <td>Own-child</td>\n",
              "      <td>White</td>\n",
              "      <td>Female</td>\n",
              "      <td>0</td>\n",
              "      <td>0</td>\n",
              "      <td>40</td>\n",
              "      <td>United-States</td>\n",
              "      <td>&lt;=50K</td>\n",
              "    </tr>\n",
              "    <tr>\n",
              "      <th>3900</th>\n",
              "      <td>18</td>\n",
              "      <td>Self-emp-inc</td>\n",
              "      <td>378036</td>\n",
              "      <td>12th</td>\n",
              "      <td>8</td>\n",
              "      <td>Never-married</td>\n",
              "      <td>Farming-fishing</td>\n",
              "      <td>Own-child</td>\n",
              "      <td>White</td>\n",
              "      <td>Male</td>\n",
              "      <td>0</td>\n",
              "      <td>0</td>\n",
              "      <td>10</td>\n",
              "      <td>United-States</td>\n",
              "      <td>&lt;=50K</td>\n",
              "    </tr>\n",
              "    <tr>\n",
              "      <th>4152</th>\n",
              "      <td>17</td>\n",
              "      <td>Private</td>\n",
              "      <td>153021</td>\n",
              "      <td>12th</td>\n",
              "      <td>8</td>\n",
              "      <td>Never-married</td>\n",
              "      <td>Sales</td>\n",
              "      <td>Own-child</td>\n",
              "      <td>White</td>\n",
              "      <td>Female</td>\n",
              "      <td>0</td>\n",
              "      <td>0</td>\n",
              "      <td>20</td>\n",
              "      <td>United-States</td>\n",
              "      <td>&lt;=50K</td>\n",
              "    </tr>\n",
              "    <tr>\n",
              "      <th>5078</th>\n",
              "      <td>29</td>\n",
              "      <td>?</td>\n",
              "      <td>41281</td>\n",
              "      <td>Bachelors</td>\n",
              "      <td>13</td>\n",
              "      <td>Married-spouse-absent</td>\n",
              "      <td>?</td>\n",
              "      <td>Not-in-family</td>\n",
              "      <td>White</td>\n",
              "      <td>Male</td>\n",
              "      <td>0</td>\n",
              "      <td>0</td>\n",
              "      <td>50</td>\n",
              "      <td>United-States</td>\n",
              "      <td>&lt;=50K</td>\n",
              "    </tr>\n",
              "    <tr>\n",
              "      <th>5782</th>\n",
              "      <td>21</td>\n",
              "      <td>Private</td>\n",
              "      <td>301694</td>\n",
              "      <td>HS-grad</td>\n",
              "      <td>9</td>\n",
              "      <td>Never-married</td>\n",
              "      <td>Craft-repair</td>\n",
              "      <td>Not-in-family</td>\n",
              "      <td>White</td>\n",
              "      <td>Male</td>\n",
              "      <td>0</td>\n",
              "      <td>0</td>\n",
              "      <td>35</td>\n",
              "      <td>Mexico</td>\n",
              "      <td>&lt;=50K</td>\n",
              "    </tr>\n",
              "    <tr>\n",
              "      <th>5907</th>\n",
              "      <td>41</td>\n",
              "      <td>Private</td>\n",
              "      <td>116391</td>\n",
              "      <td>Bachelors</td>\n",
              "      <td>13</td>\n",
              "      <td>Married-civ-spouse</td>\n",
              "      <td>Exec-managerial</td>\n",
              "      <td>Husband</td>\n",
              "      <td>White</td>\n",
              "      <td>Male</td>\n",
              "      <td>0</td>\n",
              "      <td>0</td>\n",
              "      <td>40</td>\n",
              "      <td>United-States</td>\n",
              "      <td>&gt;50K</td>\n",
              "    </tr>\n",
              "    <tr>\n",
              "      <th>6432</th>\n",
              "      <td>22</td>\n",
              "      <td>?</td>\n",
              "      <td>334593</td>\n",
              "      <td>Some-college</td>\n",
              "      <td>10</td>\n",
              "      <td>Never-married</td>\n",
              "      <td>?</td>\n",
              "      <td>Not-in-family</td>\n",
              "      <td>White</td>\n",
              "      <td>Male</td>\n",
              "      <td>0</td>\n",
              "      <td>0</td>\n",
              "      <td>40</td>\n",
              "      <td>United-States</td>\n",
              "      <td>&lt;=50K</td>\n",
              "    </tr>\n",
              "    <tr>\n",
              "      <th>6456</th>\n",
              "      <td>19</td>\n",
              "      <td>Private</td>\n",
              "      <td>139466</td>\n",
              "      <td>Some-college</td>\n",
              "      <td>10</td>\n",
              "      <td>Never-married</td>\n",
              "      <td>Sales</td>\n",
              "      <td>Own-child</td>\n",
              "      <td>White</td>\n",
              "      <td>Female</td>\n",
              "      <td>0</td>\n",
              "      <td>0</td>\n",
              "      <td>25</td>\n",
              "      <td>United-States</td>\n",
              "      <td>&lt;=50K</td>\n",
              "    </tr>\n",
              "    <tr>\n",
              "      <th>7021</th>\n",
              "      <td>30</td>\n",
              "      <td>Private</td>\n",
              "      <td>180317</td>\n",
              "      <td>Assoc-voc</td>\n",
              "      <td>11</td>\n",
              "      <td>Divorced</td>\n",
              "      <td>Machine-op-inspct</td>\n",
              "      <td>Not-in-family</td>\n",
              "      <td>White</td>\n",
              "      <td>Male</td>\n",
              "      <td>0</td>\n",
              "      <td>0</td>\n",
              "      <td>40</td>\n",
              "      <td>United-States</td>\n",
              "      <td>&lt;=50K</td>\n",
              "    </tr>\n",
              "    <tr>\n",
              "      <th>7350</th>\n",
              "      <td>30</td>\n",
              "      <td>Private</td>\n",
              "      <td>111567</td>\n",
              "      <td>HS-grad</td>\n",
              "      <td>9</td>\n",
              "      <td>Never-married</td>\n",
              "      <td>Craft-repair</td>\n",
              "      <td>Own-child</td>\n",
              "      <td>White</td>\n",
              "      <td>Male</td>\n",
              "      <td>0</td>\n",
              "      <td>0</td>\n",
              "      <td>48</td>\n",
              "      <td>United-States</td>\n",
              "      <td>&lt;=50K</td>\n",
              "    </tr>\n",
              "    <tr>\n",
              "      <th>8116</th>\n",
              "      <td>19</td>\n",
              "      <td>?</td>\n",
              "      <td>167428</td>\n",
              "      <td>Some-college</td>\n",
              "      <td>10</td>\n",
              "      <td>Never-married</td>\n",
              "      <td>?</td>\n",
              "      <td>Own-child</td>\n",
              "      <td>White</td>\n",
              "      <td>Male</td>\n",
              "      <td>0</td>\n",
              "      <td>0</td>\n",
              "      <td>40</td>\n",
              "      <td>United-States</td>\n",
              "      <td>&lt;=50K</td>\n",
              "    </tr>\n",
              "    <tr>\n",
              "      <th>9249</th>\n",
              "      <td>29</td>\n",
              "      <td>Private</td>\n",
              "      <td>36440</td>\n",
              "      <td>Bachelors</td>\n",
              "      <td>13</td>\n",
              "      <td>Never-married</td>\n",
              "      <td>Adm-clerical</td>\n",
              "      <td>Not-in-family</td>\n",
              "      <td>White</td>\n",
              "      <td>Female</td>\n",
              "      <td>0</td>\n",
              "      <td>0</td>\n",
              "      <td>40</td>\n",
              "      <td>United-States</td>\n",
              "      <td>&lt;=50K</td>\n",
              "    </tr>\n",
              "    <tr>\n",
              "      <th>9825</th>\n",
              "      <td>25</td>\n",
              "      <td>Private</td>\n",
              "      <td>112835</td>\n",
              "      <td>Bachelors</td>\n",
              "      <td>13</td>\n",
              "      <td>Never-married</td>\n",
              "      <td>Prof-specialty</td>\n",
              "      <td>Not-in-family</td>\n",
              "      <td>White</td>\n",
              "      <td>Male</td>\n",
              "      <td>0</td>\n",
              "      <td>0</td>\n",
              "      <td>40</td>\n",
              "      <td>United-States</td>\n",
              "      <td>&lt;=50K</td>\n",
              "    </tr>\n",
              "    <tr>\n",
              "      <th>10826</th>\n",
              "      <td>23</td>\n",
              "      <td>Private</td>\n",
              "      <td>250630</td>\n",
              "      <td>Bachelors</td>\n",
              "      <td>13</td>\n",
              "      <td>Never-married</td>\n",
              "      <td>Sales</td>\n",
              "      <td>Not-in-family</td>\n",
              "      <td>White</td>\n",
              "      <td>Female</td>\n",
              "      <td>0</td>\n",
              "      <td>0</td>\n",
              "      <td>40</td>\n",
              "      <td>United-States</td>\n",
              "      <td>&lt;=50K</td>\n",
              "    </tr>\n",
              "    <tr>\n",
              "      <th>10923</th>\n",
              "      <td>23</td>\n",
              "      <td>Private</td>\n",
              "      <td>239539</td>\n",
              "      <td>HS-grad</td>\n",
              "      <td>9</td>\n",
              "      <td>Never-married</td>\n",
              "      <td>Machine-op-inspct</td>\n",
              "      <td>Own-child</td>\n",
              "      <td>Asian-Pac-Islander</td>\n",
              "      <td>Male</td>\n",
              "      <td>0</td>\n",
              "      <td>0</td>\n",
              "      <td>40</td>\n",
              "      <td>Philippines</td>\n",
              "      <td>&lt;=50K</td>\n",
              "    </tr>\n",
              "    <tr>\n",
              "      <th>11746</th>\n",
              "      <td>47</td>\n",
              "      <td>Private</td>\n",
              "      <td>199058</td>\n",
              "      <td>Some-college</td>\n",
              "      <td>10</td>\n",
              "      <td>Married-civ-spouse</td>\n",
              "      <td>Prof-specialty</td>\n",
              "      <td>Husband</td>\n",
              "      <td>White</td>\n",
              "      <td>Male</td>\n",
              "      <td>0</td>\n",
              "      <td>0</td>\n",
              "      <td>40</td>\n",
              "      <td>United-States</td>\n",
              "      <td>&gt;50K</td>\n",
              "    </tr>\n",
              "    <tr>\n",
              "      <th>12488</th>\n",
              "      <td>39</td>\n",
              "      <td>Private</td>\n",
              "      <td>184659</td>\n",
              "      <td>HS-grad</td>\n",
              "      <td>9</td>\n",
              "      <td>Married-civ-spouse</td>\n",
              "      <td>Machine-op-inspct</td>\n",
              "      <td>Husband</td>\n",
              "      <td>White</td>\n",
              "      <td>Male</td>\n",
              "      <td>0</td>\n",
              "      <td>0</td>\n",
              "      <td>40</td>\n",
              "      <td>United-States</td>\n",
              "      <td>&lt;=50K</td>\n",
              "    </tr>\n",
              "    <tr>\n",
              "      <th>13504</th>\n",
              "      <td>45</td>\n",
              "      <td>Private</td>\n",
              "      <td>82797</td>\n",
              "      <td>Bachelors</td>\n",
              "      <td>13</td>\n",
              "      <td>Married-civ-spouse</td>\n",
              "      <td>Exec-managerial</td>\n",
              "      <td>Husband</td>\n",
              "      <td>White</td>\n",
              "      <td>Male</td>\n",
              "      <td>0</td>\n",
              "      <td>0</td>\n",
              "      <td>45</td>\n",
              "      <td>United-States</td>\n",
              "      <td>&gt;50K</td>\n",
              "    </tr>\n",
              "    <tr>\n",
              "      <th>14153</th>\n",
              "      <td>21</td>\n",
              "      <td>Private</td>\n",
              "      <td>243368</td>\n",
              "      <td>Preschool</td>\n",
              "      <td>1</td>\n",
              "      <td>Never-married</td>\n",
              "      <td>Farming-fishing</td>\n",
              "      <td>Not-in-family</td>\n",
              "      <td>White</td>\n",
              "      <td>Male</td>\n",
              "      <td>0</td>\n",
              "      <td>0</td>\n",
              "      <td>50</td>\n",
              "      <td>Mexico</td>\n",
              "      <td>&lt;=50K</td>\n",
              "    </tr>\n",
              "    <tr>\n",
              "      <th>14308</th>\n",
              "      <td>25</td>\n",
              "      <td>Private</td>\n",
              "      <td>308144</td>\n",
              "      <td>Bachelors</td>\n",
              "      <td>13</td>\n",
              "      <td>Never-married</td>\n",
              "      <td>Craft-repair</td>\n",
              "      <td>Not-in-family</td>\n",
              "      <td>White</td>\n",
              "      <td>Male</td>\n",
              "      <td>0</td>\n",
              "      <td>0</td>\n",
              "      <td>40</td>\n",
              "      <td>Mexico</td>\n",
              "      <td>&lt;=50K</td>\n",
              "    </tr>\n",
              "    <tr>\n",
              "      <th>14398</th>\n",
              "      <td>19</td>\n",
              "      <td>Private</td>\n",
              "      <td>318822</td>\n",
              "      <td>HS-grad</td>\n",
              "      <td>9</td>\n",
              "      <td>Never-married</td>\n",
              "      <td>Adm-clerical</td>\n",
              "      <td>Not-in-family</td>\n",
              "      <td>White</td>\n",
              "      <td>Female</td>\n",
              "      <td>0</td>\n",
              "      <td>0</td>\n",
              "      <td>40</td>\n",
              "      <td>United-States</td>\n",
              "      <td>&lt;=50K</td>\n",
              "    </tr>\n",
              "    <tr>\n",
              "      <th>14487</th>\n",
              "      <td>31</td>\n",
              "      <td>Private</td>\n",
              "      <td>228873</td>\n",
              "      <td>HS-grad</td>\n",
              "      <td>9</td>\n",
              "      <td>Married-civ-spouse</td>\n",
              "      <td>Craft-repair</td>\n",
              "      <td>Husband</td>\n",
              "      <td>White</td>\n",
              "      <td>Male</td>\n",
              "      <td>0</td>\n",
              "      <td>0</td>\n",
              "      <td>40</td>\n",
              "      <td>United-States</td>\n",
              "      <td>&lt;=50K</td>\n",
              "    </tr>\n",
              "    <tr>\n",
              "      <th>14838</th>\n",
              "      <td>43</td>\n",
              "      <td>Private</td>\n",
              "      <td>195258</td>\n",
              "      <td>HS-grad</td>\n",
              "      <td>9</td>\n",
              "      <td>Married-civ-spouse</td>\n",
              "      <td>Craft-repair</td>\n",
              "      <td>Husband</td>\n",
              "      <td>White</td>\n",
              "      <td>Male</td>\n",
              "      <td>0</td>\n",
              "      <td>0</td>\n",
              "      <td>40</td>\n",
              "      <td>United-States</td>\n",
              "      <td>&gt;50K</td>\n",
              "    </tr>\n",
              "    <tr>\n",
              "      <th>15323</th>\n",
              "      <td>23</td>\n",
              "      <td>Private</td>\n",
              "      <td>107882</td>\n",
              "      <td>Bachelors</td>\n",
              "      <td>13</td>\n",
              "      <td>Never-married</td>\n",
              "      <td>Adm-clerical</td>\n",
              "      <td>Own-child</td>\n",
              "      <td>White</td>\n",
              "      <td>Female</td>\n",
              "      <td>0</td>\n",
              "      <td>0</td>\n",
              "      <td>40</td>\n",
              "      <td>United-States</td>\n",
              "      <td>&lt;=50K</td>\n",
              "    </tr>\n",
              "    <tr>\n",
              "      <th>18584</th>\n",
              "      <td>90</td>\n",
              "      <td>Private</td>\n",
              "      <td>52386</td>\n",
              "      <td>Some-college</td>\n",
              "      <td>10</td>\n",
              "      <td>Never-married</td>\n",
              "      <td>Other-service</td>\n",
              "      <td>Not-in-family</td>\n",
              "      <td>Asian-Pac-Islander</td>\n",
              "      <td>Male</td>\n",
              "      <td>0</td>\n",
              "      <td>0</td>\n",
              "      <td>35</td>\n",
              "      <td>United-States</td>\n",
              "      <td>&lt;=50K</td>\n",
              "    </tr>\n",
              "    <tr>\n",
              "      <th>20198</th>\n",
              "      <td>19</td>\n",
              "      <td>Private</td>\n",
              "      <td>251579</td>\n",
              "      <td>Some-college</td>\n",
              "      <td>10</td>\n",
              "      <td>Never-married</td>\n",
              "      <td>Other-service</td>\n",
              "      <td>Own-child</td>\n",
              "      <td>White</td>\n",
              "      <td>Male</td>\n",
              "      <td>0</td>\n",
              "      <td>0</td>\n",
              "      <td>14</td>\n",
              "      <td>United-States</td>\n",
              "      <td>&lt;=50K</td>\n",
              "    </tr>\n",
              "    <tr>\n",
              "      <th>20606</th>\n",
              "      <td>25</td>\n",
              "      <td>Private</td>\n",
              "      <td>308144</td>\n",
              "      <td>Bachelors</td>\n",
              "      <td>13</td>\n",
              "      <td>Never-married</td>\n",
              "      <td>Craft-repair</td>\n",
              "      <td>Not-in-family</td>\n",
              "      <td>White</td>\n",
              "      <td>Male</td>\n",
              "      <td>0</td>\n",
              "      <td>0</td>\n",
              "      <td>40</td>\n",
              "      <td>Mexico</td>\n",
              "      <td>&lt;=50K</td>\n",
              "    </tr>\n",
              "    <tr>\n",
              "      <th>21048</th>\n",
              "      <td>21</td>\n",
              "      <td>Private</td>\n",
              "      <td>250051</td>\n",
              "      <td>Some-college</td>\n",
              "      <td>10</td>\n",
              "      <td>Never-married</td>\n",
              "      <td>Prof-specialty</td>\n",
              "      <td>Own-child</td>\n",
              "      <td>White</td>\n",
              "      <td>Female</td>\n",
              "      <td>0</td>\n",
              "      <td>0</td>\n",
              "      <td>10</td>\n",
              "      <td>United-States</td>\n",
              "      <td>&lt;=50K</td>\n",
              "    </tr>\n",
              "    <tr>\n",
              "      <th>21221</th>\n",
              "      <td>38</td>\n",
              "      <td>Private</td>\n",
              "      <td>207202</td>\n",
              "      <td>HS-grad</td>\n",
              "      <td>9</td>\n",
              "      <td>Married-civ-spouse</td>\n",
              "      <td>Machine-op-inspct</td>\n",
              "      <td>Husband</td>\n",
              "      <td>White</td>\n",
              "      <td>Male</td>\n",
              "      <td>0</td>\n",
              "      <td>0</td>\n",
              "      <td>48</td>\n",
              "      <td>United-States</td>\n",
              "      <td>&gt;50K</td>\n",
              "    </tr>\n",
              "    <tr>\n",
              "      <th>21860</th>\n",
              "      <td>27</td>\n",
              "      <td>Private</td>\n",
              "      <td>255582</td>\n",
              "      <td>HS-grad</td>\n",
              "      <td>9</td>\n",
              "      <td>Never-married</td>\n",
              "      <td>Machine-op-inspct</td>\n",
              "      <td>Not-in-family</td>\n",
              "      <td>White</td>\n",
              "      <td>Female</td>\n",
              "      <td>0</td>\n",
              "      <td>0</td>\n",
              "      <td>40</td>\n",
              "      <td>United-States</td>\n",
              "      <td>&lt;=50K</td>\n",
              "    </tr>\n",
              "    <tr>\n",
              "      <th>22086</th>\n",
              "      <td>20</td>\n",
              "      <td>Private</td>\n",
              "      <td>107658</td>\n",
              "      <td>Some-college</td>\n",
              "      <td>10</td>\n",
              "      <td>Never-married</td>\n",
              "      <td>Tech-support</td>\n",
              "      <td>Not-in-family</td>\n",
              "      <td>White</td>\n",
              "      <td>Female</td>\n",
              "      <td>0</td>\n",
              "      <td>0</td>\n",
              "      <td>10</td>\n",
              "      <td>United-States</td>\n",
              "      <td>&lt;=50K</td>\n",
              "    </tr>\n",
              "    <tr>\n",
              "      <th>22123</th>\n",
              "      <td>25</td>\n",
              "      <td>Private</td>\n",
              "      <td>195994</td>\n",
              "      <td>1st-4th</td>\n",
              "      <td>2</td>\n",
              "      <td>Never-married</td>\n",
              "      <td>Priv-house-serv</td>\n",
              "      <td>Not-in-family</td>\n",
              "      <td>White</td>\n",
              "      <td>Female</td>\n",
              "      <td>0</td>\n",
              "      <td>0</td>\n",
              "      <td>40</td>\n",
              "      <td>Guatemala</td>\n",
              "      <td>&lt;=50K</td>\n",
              "    </tr>\n",
              "    <tr>\n",
              "      <th>23271</th>\n",
              "      <td>19</td>\n",
              "      <td>Private</td>\n",
              "      <td>138153</td>\n",
              "      <td>Some-college</td>\n",
              "      <td>10</td>\n",
              "      <td>Never-married</td>\n",
              "      <td>Adm-clerical</td>\n",
              "      <td>Own-child</td>\n",
              "      <td>White</td>\n",
              "      <td>Female</td>\n",
              "      <td>0</td>\n",
              "      <td>0</td>\n",
              "      <td>10</td>\n",
              "      <td>United-States</td>\n",
              "      <td>&lt;=50K</td>\n",
              "    </tr>\n",
              "    <tr>\n",
              "      <th>23334</th>\n",
              "      <td>49</td>\n",
              "      <td>Self-emp-not-inc</td>\n",
              "      <td>43479</td>\n",
              "      <td>Some-college</td>\n",
              "      <td>10</td>\n",
              "      <td>Married-civ-spouse</td>\n",
              "      <td>Craft-repair</td>\n",
              "      <td>Husband</td>\n",
              "      <td>White</td>\n",
              "      <td>Male</td>\n",
              "      <td>0</td>\n",
              "      <td>0</td>\n",
              "      <td>40</td>\n",
              "      <td>United-States</td>\n",
              "      <td>&lt;=50K</td>\n",
              "    </tr>\n",
              "    <tr>\n",
              "      <th>24201</th>\n",
              "      <td>49</td>\n",
              "      <td>Private</td>\n",
              "      <td>31267</td>\n",
              "      <td>7th-8th</td>\n",
              "      <td>4</td>\n",
              "      <td>Married-civ-spouse</td>\n",
              "      <td>Craft-repair</td>\n",
              "      <td>Husband</td>\n",
              "      <td>White</td>\n",
              "      <td>Male</td>\n",
              "      <td>0</td>\n",
              "      <td>0</td>\n",
              "      <td>40</td>\n",
              "      <td>United-States</td>\n",
              "      <td>&lt;=50K</td>\n",
              "    </tr>\n",
              "    <tr>\n",
              "      <th>24361</th>\n",
              "      <td>21</td>\n",
              "      <td>Private</td>\n",
              "      <td>243368</td>\n",
              "      <td>Preschool</td>\n",
              "      <td>1</td>\n",
              "      <td>Never-married</td>\n",
              "      <td>Farming-fishing</td>\n",
              "      <td>Not-in-family</td>\n",
              "      <td>White</td>\n",
              "      <td>Male</td>\n",
              "      <td>0</td>\n",
              "      <td>0</td>\n",
              "      <td>50</td>\n",
              "      <td>Mexico</td>\n",
              "      <td>&lt;=50K</td>\n",
              "    </tr>\n",
              "    <tr>\n",
              "      <th>24960</th>\n",
              "      <td>28</td>\n",
              "      <td>Private</td>\n",
              "      <td>274679</td>\n",
              "      <td>Masters</td>\n",
              "      <td>14</td>\n",
              "      <td>Never-married</td>\n",
              "      <td>Prof-specialty</td>\n",
              "      <td>Not-in-family</td>\n",
              "      <td>White</td>\n",
              "      <td>Male</td>\n",
              "      <td>0</td>\n",
              "      <td>0</td>\n",
              "      <td>50</td>\n",
              "      <td>United-States</td>\n",
              "      <td>&lt;=50K</td>\n",
              "    </tr>\n",
              "    <tr>\n",
              "      <th>26648</th>\n",
              "      <td>42</td>\n",
              "      <td>Private</td>\n",
              "      <td>204235</td>\n",
              "      <td>Some-college</td>\n",
              "      <td>10</td>\n",
              "      <td>Married-civ-spouse</td>\n",
              "      <td>Prof-specialty</td>\n",
              "      <td>Husband</td>\n",
              "      <td>White</td>\n",
              "      <td>Male</td>\n",
              "      <td>0</td>\n",
              "      <td>0</td>\n",
              "      <td>40</td>\n",
              "      <td>United-States</td>\n",
              "      <td>&gt;50K</td>\n",
              "    </tr>\n",
              "    <tr>\n",
              "      <th>28246</th>\n",
              "      <td>46</td>\n",
              "      <td>Private</td>\n",
              "      <td>133616</td>\n",
              "      <td>Some-college</td>\n",
              "      <td>10</td>\n",
              "      <td>Divorced</td>\n",
              "      <td>Adm-clerical</td>\n",
              "      <td>Unmarried</td>\n",
              "      <td>White</td>\n",
              "      <td>Female</td>\n",
              "      <td>0</td>\n",
              "      <td>0</td>\n",
              "      <td>40</td>\n",
              "      <td>United-States</td>\n",
              "      <td>&lt;=50K</td>\n",
              "    </tr>\n",
              "    <tr>\n",
              "      <th>29365</th>\n",
              "      <td>25</td>\n",
              "      <td>Private</td>\n",
              "      <td>195994</td>\n",
              "      <td>1st-4th</td>\n",
              "      <td>2</td>\n",
              "      <td>Never-married</td>\n",
              "      <td>Priv-house-serv</td>\n",
              "      <td>Not-in-family</td>\n",
              "      <td>White</td>\n",
              "      <td>Female</td>\n",
              "      <td>0</td>\n",
              "      <td>0</td>\n",
              "      <td>40</td>\n",
              "      <td>Guatemala</td>\n",
              "      <td>&lt;=50K</td>\n",
              "    </tr>\n",
              "    <tr>\n",
              "      <th>31470</th>\n",
              "      <td>19</td>\n",
              "      <td>Private</td>\n",
              "      <td>146679</td>\n",
              "      <td>Some-college</td>\n",
              "      <td>10</td>\n",
              "      <td>Never-married</td>\n",
              "      <td>Exec-managerial</td>\n",
              "      <td>Own-child</td>\n",
              "      <td>Black</td>\n",
              "      <td>Male</td>\n",
              "      <td>0</td>\n",
              "      <td>0</td>\n",
              "      <td>30</td>\n",
              "      <td>United-States</td>\n",
              "      <td>&lt;=50K</td>\n",
              "    </tr>\n",
              "    <tr>\n",
              "      <th>32578</th>\n",
              "      <td>46</td>\n",
              "      <td>Private</td>\n",
              "      <td>173243</td>\n",
              "      <td>HS-grad</td>\n",
              "      <td>9</td>\n",
              "      <td>Married-civ-spouse</td>\n",
              "      <td>Craft-repair</td>\n",
              "      <td>Husband</td>\n",
              "      <td>White</td>\n",
              "      <td>Male</td>\n",
              "      <td>0</td>\n",
              "      <td>0</td>\n",
              "      <td>40</td>\n",
              "      <td>United-States</td>\n",
              "      <td>&lt;=50K</td>\n",
              "    </tr>\n",
              "    <tr>\n",
              "      <th>33127</th>\n",
              "      <td>35</td>\n",
              "      <td>Private</td>\n",
              "      <td>379959</td>\n",
              "      <td>HS-grad</td>\n",
              "      <td>9</td>\n",
              "      <td>Divorced</td>\n",
              "      <td>Other-service</td>\n",
              "      <td>Not-in-family</td>\n",
              "      <td>White</td>\n",
              "      <td>Female</td>\n",
              "      <td>0</td>\n",
              "      <td>0</td>\n",
              "      <td>40</td>\n",
              "      <td>United-States</td>\n",
              "      <td>&lt;=50K</td>\n",
              "    </tr>\n",
              "    <tr>\n",
              "      <th>33256</th>\n",
              "      <td>30</td>\n",
              "      <td>Private</td>\n",
              "      <td>144593</td>\n",
              "      <td>HS-grad</td>\n",
              "      <td>9</td>\n",
              "      <td>Never-married</td>\n",
              "      <td>Other-service</td>\n",
              "      <td>Not-in-family</td>\n",
              "      <td>Black</td>\n",
              "      <td>Male</td>\n",
              "      <td>0</td>\n",
              "      <td>0</td>\n",
              "      <td>40</td>\n",
              "      <td>?</td>\n",
              "      <td>&lt;=50K</td>\n",
              "    </tr>\n",
              "    <tr>\n",
              "      <th>33954</th>\n",
              "      <td>19</td>\n",
              "      <td>Private</td>\n",
              "      <td>97261</td>\n",
              "      <td>HS-grad</td>\n",
              "      <td>9</td>\n",
              "      <td>Never-married</td>\n",
              "      <td>Farming-fishing</td>\n",
              "      <td>Not-in-family</td>\n",
              "      <td>White</td>\n",
              "      <td>Male</td>\n",
              "      <td>0</td>\n",
              "      <td>0</td>\n",
              "      <td>40</td>\n",
              "      <td>United-States</td>\n",
              "      <td>&lt;=50K</td>\n",
              "    </tr>\n",
              "    <tr>\n",
              "      <th>34197</th>\n",
              "      <td>44</td>\n",
              "      <td>Private</td>\n",
              "      <td>367749</td>\n",
              "      <td>Bachelors</td>\n",
              "      <td>13</td>\n",
              "      <td>Never-married</td>\n",
              "      <td>Prof-specialty</td>\n",
              "      <td>Not-in-family</td>\n",
              "      <td>White</td>\n",
              "      <td>Female</td>\n",
              "      <td>0</td>\n",
              "      <td>0</td>\n",
              "      <td>45</td>\n",
              "      <td>Mexico</td>\n",
              "      <td>&lt;=50K</td>\n",
              "    </tr>\n",
              "    <tr>\n",
              "      <th>37384</th>\n",
              "      <td>23</td>\n",
              "      <td>Private</td>\n",
              "      <td>240137</td>\n",
              "      <td>5th-6th</td>\n",
              "      <td>3</td>\n",
              "      <td>Never-married</td>\n",
              "      <td>Handlers-cleaners</td>\n",
              "      <td>Not-in-family</td>\n",
              "      <td>White</td>\n",
              "      <td>Male</td>\n",
              "      <td>0</td>\n",
              "      <td>0</td>\n",
              "      <td>55</td>\n",
              "      <td>Mexico</td>\n",
              "      <td>&lt;=50K</td>\n",
              "    </tr>\n",
              "    <tr>\n",
              "      <th>41905</th>\n",
              "      <td>39</td>\n",
              "      <td>Private</td>\n",
              "      <td>30916</td>\n",
              "      <td>HS-grad</td>\n",
              "      <td>9</td>\n",
              "      <td>Married-civ-spouse</td>\n",
              "      <td>Craft-repair</td>\n",
              "      <td>Husband</td>\n",
              "      <td>White</td>\n",
              "      <td>Male</td>\n",
              "      <td>0</td>\n",
              "      <td>0</td>\n",
              "      <td>40</td>\n",
              "      <td>United-States</td>\n",
              "      <td>&lt;=50K</td>\n",
              "    </tr>\n",
              "  </tbody>\n",
              "</table>\n",
              "</div>\n",
              "      <button class=\"colab-df-convert\" onclick=\"convertToInteractive('df-e71c362b-cd03-40da-a140-e8533d788655')\"\n",
              "              title=\"Convert this dataframe to an interactive table.\"\n",
              "              style=\"display:none;\">\n",
              "        \n",
              "  <svg xmlns=\"http://www.w3.org/2000/svg\" height=\"24px\"viewBox=\"0 0 24 24\"\n",
              "       width=\"24px\">\n",
              "    <path d=\"M0 0h24v24H0V0z\" fill=\"none\"/>\n",
              "    <path d=\"M18.56 5.44l.94 2.06.94-2.06 2.06-.94-2.06-.94-.94-2.06-.94 2.06-2.06.94zm-11 1L8.5 8.5l.94-2.06 2.06-.94-2.06-.94L8.5 2.5l-.94 2.06-2.06.94zm10 10l.94 2.06.94-2.06 2.06-.94-2.06-.94-.94-2.06-.94 2.06-2.06.94z\"/><path d=\"M17.41 7.96l-1.37-1.37c-.4-.4-.92-.59-1.43-.59-.52 0-1.04.2-1.43.59L10.3 9.45l-7.72 7.72c-.78.78-.78 2.05 0 2.83L4 21.41c.39.39.9.59 1.41.59.51 0 1.02-.2 1.41-.59l7.78-7.78 2.81-2.81c.8-.78.8-2.07 0-2.86zM5.41 20L4 18.59l7.72-7.72 1.47 1.35L5.41 20z\"/>\n",
              "  </svg>\n",
              "      </button>\n",
              "      \n",
              "  <style>\n",
              "    .colab-df-container {\n",
              "      display:flex;\n",
              "      flex-wrap:wrap;\n",
              "      gap: 12px;\n",
              "    }\n",
              "\n",
              "    .colab-df-convert {\n",
              "      background-color: #E8F0FE;\n",
              "      border: none;\n",
              "      border-radius: 50%;\n",
              "      cursor: pointer;\n",
              "      display: none;\n",
              "      fill: #1967D2;\n",
              "      height: 32px;\n",
              "      padding: 0 0 0 0;\n",
              "      width: 32px;\n",
              "    }\n",
              "\n",
              "    .colab-df-convert:hover {\n",
              "      background-color: #E2EBFA;\n",
              "      box-shadow: 0px 1px 2px rgba(60, 64, 67, 0.3), 0px 1px 3px 1px rgba(60, 64, 67, 0.15);\n",
              "      fill: #174EA6;\n",
              "    }\n",
              "\n",
              "    [theme=dark] .colab-df-convert {\n",
              "      background-color: #3B4455;\n",
              "      fill: #D2E3FC;\n",
              "    }\n",
              "\n",
              "    [theme=dark] .colab-df-convert:hover {\n",
              "      background-color: #434B5C;\n",
              "      box-shadow: 0px 1px 3px 1px rgba(0, 0, 0, 0.15);\n",
              "      filter: drop-shadow(0px 1px 2px rgba(0, 0, 0, 0.3));\n",
              "      fill: #FFFFFF;\n",
              "    }\n",
              "  </style>\n",
              "\n",
              "      <script>\n",
              "        const buttonEl =\n",
              "          document.querySelector('#df-e71c362b-cd03-40da-a140-e8533d788655 button.colab-df-convert');\n",
              "        buttonEl.style.display =\n",
              "          google.colab.kernel.accessAllowed ? 'block' : 'none';\n",
              "\n",
              "        async function convertToInteractive(key) {\n",
              "          const element = document.querySelector('#df-e71c362b-cd03-40da-a140-e8533d788655');\n",
              "          const dataTable =\n",
              "            await google.colab.kernel.invokeFunction('convertToInteractive',\n",
              "                                                     [key], {});\n",
              "          if (!dataTable) return;\n",
              "\n",
              "          const docLinkHtml = 'Like what you see? Visit the ' +\n",
              "            '<a target=\"_blank\" href=https://colab.research.google.com/notebooks/data_table.ipynb>data table notebook</a>'\n",
              "            + ' to learn more about interactive tables.';\n",
              "          element.innerHTML = '';\n",
              "          dataTable['output_type'] = 'display_data';\n",
              "          await google.colab.output.renderOutput(dataTable, element);\n",
              "          const docLink = document.createElement('div');\n",
              "          docLink.innerHTML = docLinkHtml;\n",
              "          element.appendChild(docLink);\n",
              "        }\n",
              "      </script>\n",
              "    </div>\n",
              "  </div>\n",
              "  "
            ]
          },
          "metadata": {},
          "execution_count": 3
        }
      ]
    },
    {
      "cell_type": "code",
      "source": [
        "df = df.drop_duplicates()"
      ],
      "metadata": {
        "id": "SBUKY5rAmolq"
      },
      "execution_count": 4,
      "outputs": []
    },
    {
      "cell_type": "markdown",
      "source": [
        "##Inspect Numerical Errors"
      ],
      "metadata": {
        "id": "sXx5Ijy8ysJD"
      }
    },
    {
      "cell_type": "code",
      "source": [
        "df.describe(include=\"number\")"
      ],
      "metadata": {
        "colab": {
          "base_uri": "https://localhost:8080/",
          "height": 300
        },
        "id": "QH_zdDkuzB88",
        "outputId": "d154261e-8bc6-4fa6-825c-e25a4d50935a"
      },
      "execution_count": 5,
      "outputs": [
        {
          "output_type": "execute_result",
          "data": {
            "text/plain": [
              "                age        fnlwgt  educational-num  capital-gain  \\\n",
              "count  48790.000000  4.879000e+04     48790.000000  48790.000000   \n",
              "mean      38.652798  1.896690e+05        10.078807   1080.217688   \n",
              "std       13.708493  1.056172e+05         2.570046   7455.905921   \n",
              "min       17.000000  1.228500e+04         1.000000      0.000000   \n",
              "25%       28.000000  1.175550e+05         9.000000      0.000000   \n",
              "50%       37.000000  1.781385e+05        10.000000      0.000000   \n",
              "75%       48.000000  2.376062e+05        12.000000      0.000000   \n",
              "max       90.000000  1.490400e+06        16.000000  99999.000000   \n",
              "\n",
              "       capital-loss  hours-per-week  \n",
              "count  48790.000000    48790.000000  \n",
              "mean      87.595573       40.425886  \n",
              "std      403.209129       12.392729  \n",
              "min        0.000000        1.000000  \n",
              "25%        0.000000       40.000000  \n",
              "50%        0.000000       40.000000  \n",
              "75%        0.000000       45.000000  \n",
              "max     4356.000000       99.000000  "
            ],
            "text/html": [
              "\n",
              "  <div id=\"df-68268996-0d63-4a2f-a467-b3686ba8e677\">\n",
              "    <div class=\"colab-df-container\">\n",
              "      <div>\n",
              "<style scoped>\n",
              "    .dataframe tbody tr th:only-of-type {\n",
              "        vertical-align: middle;\n",
              "    }\n",
              "\n",
              "    .dataframe tbody tr th {\n",
              "        vertical-align: top;\n",
              "    }\n",
              "\n",
              "    .dataframe thead th {\n",
              "        text-align: right;\n",
              "    }\n",
              "</style>\n",
              "<table border=\"1\" class=\"dataframe\">\n",
              "  <thead>\n",
              "    <tr style=\"text-align: right;\">\n",
              "      <th></th>\n",
              "      <th>age</th>\n",
              "      <th>fnlwgt</th>\n",
              "      <th>educational-num</th>\n",
              "      <th>capital-gain</th>\n",
              "      <th>capital-loss</th>\n",
              "      <th>hours-per-week</th>\n",
              "    </tr>\n",
              "  </thead>\n",
              "  <tbody>\n",
              "    <tr>\n",
              "      <th>count</th>\n",
              "      <td>48790.000000</td>\n",
              "      <td>4.879000e+04</td>\n",
              "      <td>48790.000000</td>\n",
              "      <td>48790.000000</td>\n",
              "      <td>48790.000000</td>\n",
              "      <td>48790.000000</td>\n",
              "    </tr>\n",
              "    <tr>\n",
              "      <th>mean</th>\n",
              "      <td>38.652798</td>\n",
              "      <td>1.896690e+05</td>\n",
              "      <td>10.078807</td>\n",
              "      <td>1080.217688</td>\n",
              "      <td>87.595573</td>\n",
              "      <td>40.425886</td>\n",
              "    </tr>\n",
              "    <tr>\n",
              "      <th>std</th>\n",
              "      <td>13.708493</td>\n",
              "      <td>1.056172e+05</td>\n",
              "      <td>2.570046</td>\n",
              "      <td>7455.905921</td>\n",
              "      <td>403.209129</td>\n",
              "      <td>12.392729</td>\n",
              "    </tr>\n",
              "    <tr>\n",
              "      <th>min</th>\n",
              "      <td>17.000000</td>\n",
              "      <td>1.228500e+04</td>\n",
              "      <td>1.000000</td>\n",
              "      <td>0.000000</td>\n",
              "      <td>0.000000</td>\n",
              "      <td>1.000000</td>\n",
              "    </tr>\n",
              "    <tr>\n",
              "      <th>25%</th>\n",
              "      <td>28.000000</td>\n",
              "      <td>1.175550e+05</td>\n",
              "      <td>9.000000</td>\n",
              "      <td>0.000000</td>\n",
              "      <td>0.000000</td>\n",
              "      <td>40.000000</td>\n",
              "    </tr>\n",
              "    <tr>\n",
              "      <th>50%</th>\n",
              "      <td>37.000000</td>\n",
              "      <td>1.781385e+05</td>\n",
              "      <td>10.000000</td>\n",
              "      <td>0.000000</td>\n",
              "      <td>0.000000</td>\n",
              "      <td>40.000000</td>\n",
              "    </tr>\n",
              "    <tr>\n",
              "      <th>75%</th>\n",
              "      <td>48.000000</td>\n",
              "      <td>2.376062e+05</td>\n",
              "      <td>12.000000</td>\n",
              "      <td>0.000000</td>\n",
              "      <td>0.000000</td>\n",
              "      <td>45.000000</td>\n",
              "    </tr>\n",
              "    <tr>\n",
              "      <th>max</th>\n",
              "      <td>90.000000</td>\n",
              "      <td>1.490400e+06</td>\n",
              "      <td>16.000000</td>\n",
              "      <td>99999.000000</td>\n",
              "      <td>4356.000000</td>\n",
              "      <td>99.000000</td>\n",
              "    </tr>\n",
              "  </tbody>\n",
              "</table>\n",
              "</div>\n",
              "      <button class=\"colab-df-convert\" onclick=\"convertToInteractive('df-68268996-0d63-4a2f-a467-b3686ba8e677')\"\n",
              "              title=\"Convert this dataframe to an interactive table.\"\n",
              "              style=\"display:none;\">\n",
              "        \n",
              "  <svg xmlns=\"http://www.w3.org/2000/svg\" height=\"24px\"viewBox=\"0 0 24 24\"\n",
              "       width=\"24px\">\n",
              "    <path d=\"M0 0h24v24H0V0z\" fill=\"none\"/>\n",
              "    <path d=\"M18.56 5.44l.94 2.06.94-2.06 2.06-.94-2.06-.94-.94-2.06-.94 2.06-2.06.94zm-11 1L8.5 8.5l.94-2.06 2.06-.94-2.06-.94L8.5 2.5l-.94 2.06-2.06.94zm10 10l.94 2.06.94-2.06 2.06-.94-2.06-.94-.94-2.06-.94 2.06-2.06.94z\"/><path d=\"M17.41 7.96l-1.37-1.37c-.4-.4-.92-.59-1.43-.59-.52 0-1.04.2-1.43.59L10.3 9.45l-7.72 7.72c-.78.78-.78 2.05 0 2.83L4 21.41c.39.39.9.59 1.41.59.51 0 1.02-.2 1.41-.59l7.78-7.78 2.81-2.81c.8-.78.8-2.07 0-2.86zM5.41 20L4 18.59l7.72-7.72 1.47 1.35L5.41 20z\"/>\n",
              "  </svg>\n",
              "      </button>\n",
              "      \n",
              "  <style>\n",
              "    .colab-df-container {\n",
              "      display:flex;\n",
              "      flex-wrap:wrap;\n",
              "      gap: 12px;\n",
              "    }\n",
              "\n",
              "    .colab-df-convert {\n",
              "      background-color: #E8F0FE;\n",
              "      border: none;\n",
              "      border-radius: 50%;\n",
              "      cursor: pointer;\n",
              "      display: none;\n",
              "      fill: #1967D2;\n",
              "      height: 32px;\n",
              "      padding: 0 0 0 0;\n",
              "      width: 32px;\n",
              "    }\n",
              "\n",
              "    .colab-df-convert:hover {\n",
              "      background-color: #E2EBFA;\n",
              "      box-shadow: 0px 1px 2px rgba(60, 64, 67, 0.3), 0px 1px 3px 1px rgba(60, 64, 67, 0.15);\n",
              "      fill: #174EA6;\n",
              "    }\n",
              "\n",
              "    [theme=dark] .colab-df-convert {\n",
              "      background-color: #3B4455;\n",
              "      fill: #D2E3FC;\n",
              "    }\n",
              "\n",
              "    [theme=dark] .colab-df-convert:hover {\n",
              "      background-color: #434B5C;\n",
              "      box-shadow: 0px 1px 3px 1px rgba(0, 0, 0, 0.15);\n",
              "      filter: drop-shadow(0px 1px 2px rgba(0, 0, 0, 0.3));\n",
              "      fill: #FFFFFF;\n",
              "    }\n",
              "  </style>\n",
              "\n",
              "      <script>\n",
              "        const buttonEl =\n",
              "          document.querySelector('#df-68268996-0d63-4a2f-a467-b3686ba8e677 button.colab-df-convert');\n",
              "        buttonEl.style.display =\n",
              "          google.colab.kernel.accessAllowed ? 'block' : 'none';\n",
              "\n",
              "        async function convertToInteractive(key) {\n",
              "          const element = document.querySelector('#df-68268996-0d63-4a2f-a467-b3686ba8e677');\n",
              "          const dataTable =\n",
              "            await google.colab.kernel.invokeFunction('convertToInteractive',\n",
              "                                                     [key], {});\n",
              "          if (!dataTable) return;\n",
              "\n",
              "          const docLinkHtml = 'Like what you see? Visit the ' +\n",
              "            '<a target=\"_blank\" href=https://colab.research.google.com/notebooks/data_table.ipynb>data table notebook</a>'\n",
              "            + ' to learn more about interactive tables.';\n",
              "          element.innerHTML = '';\n",
              "          dataTable['output_type'] = 'display_data';\n",
              "          await google.colab.output.renderOutput(dataTable, element);\n",
              "          const docLink = document.createElement('div');\n",
              "          docLink.innerHTML = docLinkHtml;\n",
              "          element.appendChild(docLink);\n",
              "        }\n",
              "      </script>\n",
              "    </div>\n",
              "  </div>\n",
              "  "
            ]
          },
          "metadata": {},
          "execution_count": 5
        }
      ]
    },
    {
      "cell_type": "markdown",
      "source": [
        "- Filtering all rows with age under 18 because they are not considered adults in Canada"
      ],
      "metadata": {
        "id": "MAiYGVIeyXHU"
      }
    },
    {
      "cell_type": "code",
      "source": [
        "age_filter = df[\"age\"] > 18\n",
        "\n",
        "df = df.loc[age_filter]\n",
        "display(df.describe())\n",
        "df.info()"
      ],
      "metadata": {
        "colab": {
          "base_uri": "https://localhost:8080/",
          "height": 682
        },
        "id": "XUoOzh4az19d",
        "outputId": "ce335ba0-75c8-4a36-c1ca-4d2181d1a3a8"
      },
      "execution_count": 6,
      "outputs": [
        {
          "output_type": "display_data",
          "data": {
            "text/plain": [
              "                age        fnlwgt  educational-num  capital-gain  \\\n",
              "count  47335.000000  4.733500e+04     47335.000000  47335.000000   \n",
              "mean      39.300180  1.897360e+05        10.155213   1111.013563   \n",
              "std       13.402909  1.055463e+05         2.558475   7564.174322   \n",
              "min       19.000000  1.228500e+04         1.000000      0.000000   \n",
              "25%       29.000000  1.176060e+05         9.000000      0.000000   \n",
              "50%       38.000000  1.783190e+05        10.000000      0.000000   \n",
              "75%       48.000000  2.374980e+05        13.000000      0.000000   \n",
              "max       90.000000  1.490400e+06        16.000000  99999.000000   \n",
              "\n",
              "       capital-loss  hours-per-week  \n",
              "count  47335.000000    47335.000000  \n",
              "mean      89.180184       40.934594  \n",
              "std      407.078597       12.072850  \n",
              "min        0.000000        1.000000  \n",
              "25%        0.000000       40.000000  \n",
              "50%        0.000000       40.000000  \n",
              "75%        0.000000       45.000000  \n",
              "max     4356.000000       99.000000  "
            ],
            "text/html": [
              "\n",
              "  <div id=\"df-f2051379-0efd-46a5-80d9-d0bb9bd05b77\">\n",
              "    <div class=\"colab-df-container\">\n",
              "      <div>\n",
              "<style scoped>\n",
              "    .dataframe tbody tr th:only-of-type {\n",
              "        vertical-align: middle;\n",
              "    }\n",
              "\n",
              "    .dataframe tbody tr th {\n",
              "        vertical-align: top;\n",
              "    }\n",
              "\n",
              "    .dataframe thead th {\n",
              "        text-align: right;\n",
              "    }\n",
              "</style>\n",
              "<table border=\"1\" class=\"dataframe\">\n",
              "  <thead>\n",
              "    <tr style=\"text-align: right;\">\n",
              "      <th></th>\n",
              "      <th>age</th>\n",
              "      <th>fnlwgt</th>\n",
              "      <th>educational-num</th>\n",
              "      <th>capital-gain</th>\n",
              "      <th>capital-loss</th>\n",
              "      <th>hours-per-week</th>\n",
              "    </tr>\n",
              "  </thead>\n",
              "  <tbody>\n",
              "    <tr>\n",
              "      <th>count</th>\n",
              "      <td>47335.000000</td>\n",
              "      <td>4.733500e+04</td>\n",
              "      <td>47335.000000</td>\n",
              "      <td>47335.000000</td>\n",
              "      <td>47335.000000</td>\n",
              "      <td>47335.000000</td>\n",
              "    </tr>\n",
              "    <tr>\n",
              "      <th>mean</th>\n",
              "      <td>39.300180</td>\n",
              "      <td>1.897360e+05</td>\n",
              "      <td>10.155213</td>\n",
              "      <td>1111.013563</td>\n",
              "      <td>89.180184</td>\n",
              "      <td>40.934594</td>\n",
              "    </tr>\n",
              "    <tr>\n",
              "      <th>std</th>\n",
              "      <td>13.402909</td>\n",
              "      <td>1.055463e+05</td>\n",
              "      <td>2.558475</td>\n",
              "      <td>7564.174322</td>\n",
              "      <td>407.078597</td>\n",
              "      <td>12.072850</td>\n",
              "    </tr>\n",
              "    <tr>\n",
              "      <th>min</th>\n",
              "      <td>19.000000</td>\n",
              "      <td>1.228500e+04</td>\n",
              "      <td>1.000000</td>\n",
              "      <td>0.000000</td>\n",
              "      <td>0.000000</td>\n",
              "      <td>1.000000</td>\n",
              "    </tr>\n",
              "    <tr>\n",
              "      <th>25%</th>\n",
              "      <td>29.000000</td>\n",
              "      <td>1.176060e+05</td>\n",
              "      <td>9.000000</td>\n",
              "      <td>0.000000</td>\n",
              "      <td>0.000000</td>\n",
              "      <td>40.000000</td>\n",
              "    </tr>\n",
              "    <tr>\n",
              "      <th>50%</th>\n",
              "      <td>38.000000</td>\n",
              "      <td>1.783190e+05</td>\n",
              "      <td>10.000000</td>\n",
              "      <td>0.000000</td>\n",
              "      <td>0.000000</td>\n",
              "      <td>40.000000</td>\n",
              "    </tr>\n",
              "    <tr>\n",
              "      <th>75%</th>\n",
              "      <td>48.000000</td>\n",
              "      <td>2.374980e+05</td>\n",
              "      <td>13.000000</td>\n",
              "      <td>0.000000</td>\n",
              "      <td>0.000000</td>\n",
              "      <td>45.000000</td>\n",
              "    </tr>\n",
              "    <tr>\n",
              "      <th>max</th>\n",
              "      <td>90.000000</td>\n",
              "      <td>1.490400e+06</td>\n",
              "      <td>16.000000</td>\n",
              "      <td>99999.000000</td>\n",
              "      <td>4356.000000</td>\n",
              "      <td>99.000000</td>\n",
              "    </tr>\n",
              "  </tbody>\n",
              "</table>\n",
              "</div>\n",
              "      <button class=\"colab-df-convert\" onclick=\"convertToInteractive('df-f2051379-0efd-46a5-80d9-d0bb9bd05b77')\"\n",
              "              title=\"Convert this dataframe to an interactive table.\"\n",
              "              style=\"display:none;\">\n",
              "        \n",
              "  <svg xmlns=\"http://www.w3.org/2000/svg\" height=\"24px\"viewBox=\"0 0 24 24\"\n",
              "       width=\"24px\">\n",
              "    <path d=\"M0 0h24v24H0V0z\" fill=\"none\"/>\n",
              "    <path d=\"M18.56 5.44l.94 2.06.94-2.06 2.06-.94-2.06-.94-.94-2.06-.94 2.06-2.06.94zm-11 1L8.5 8.5l.94-2.06 2.06-.94-2.06-.94L8.5 2.5l-.94 2.06-2.06.94zm10 10l.94 2.06.94-2.06 2.06-.94-2.06-.94-.94-2.06-.94 2.06-2.06.94z\"/><path d=\"M17.41 7.96l-1.37-1.37c-.4-.4-.92-.59-1.43-.59-.52 0-1.04.2-1.43.59L10.3 9.45l-7.72 7.72c-.78.78-.78 2.05 0 2.83L4 21.41c.39.39.9.59 1.41.59.51 0 1.02-.2 1.41-.59l7.78-7.78 2.81-2.81c.8-.78.8-2.07 0-2.86zM5.41 20L4 18.59l7.72-7.72 1.47 1.35L5.41 20z\"/>\n",
              "  </svg>\n",
              "      </button>\n",
              "      \n",
              "  <style>\n",
              "    .colab-df-container {\n",
              "      display:flex;\n",
              "      flex-wrap:wrap;\n",
              "      gap: 12px;\n",
              "    }\n",
              "\n",
              "    .colab-df-convert {\n",
              "      background-color: #E8F0FE;\n",
              "      border: none;\n",
              "      border-radius: 50%;\n",
              "      cursor: pointer;\n",
              "      display: none;\n",
              "      fill: #1967D2;\n",
              "      height: 32px;\n",
              "      padding: 0 0 0 0;\n",
              "      width: 32px;\n",
              "    }\n",
              "\n",
              "    .colab-df-convert:hover {\n",
              "      background-color: #E2EBFA;\n",
              "      box-shadow: 0px 1px 2px rgba(60, 64, 67, 0.3), 0px 1px 3px 1px rgba(60, 64, 67, 0.15);\n",
              "      fill: #174EA6;\n",
              "    }\n",
              "\n",
              "    [theme=dark] .colab-df-convert {\n",
              "      background-color: #3B4455;\n",
              "      fill: #D2E3FC;\n",
              "    }\n",
              "\n",
              "    [theme=dark] .colab-df-convert:hover {\n",
              "      background-color: #434B5C;\n",
              "      box-shadow: 0px 1px 3px 1px rgba(0, 0, 0, 0.15);\n",
              "      filter: drop-shadow(0px 1px 2px rgba(0, 0, 0, 0.3));\n",
              "      fill: #FFFFFF;\n",
              "    }\n",
              "  </style>\n",
              "\n",
              "      <script>\n",
              "        const buttonEl =\n",
              "          document.querySelector('#df-f2051379-0efd-46a5-80d9-d0bb9bd05b77 button.colab-df-convert');\n",
              "        buttonEl.style.display =\n",
              "          google.colab.kernel.accessAllowed ? 'block' : 'none';\n",
              "\n",
              "        async function convertToInteractive(key) {\n",
              "          const element = document.querySelector('#df-f2051379-0efd-46a5-80d9-d0bb9bd05b77');\n",
              "          const dataTable =\n",
              "            await google.colab.kernel.invokeFunction('convertToInteractive',\n",
              "                                                     [key], {});\n",
              "          if (!dataTable) return;\n",
              "\n",
              "          const docLinkHtml = 'Like what you see? Visit the ' +\n",
              "            '<a target=\"_blank\" href=https://colab.research.google.com/notebooks/data_table.ipynb>data table notebook</a>'\n",
              "            + ' to learn more about interactive tables.';\n",
              "          element.innerHTML = '';\n",
              "          dataTable['output_type'] = 'display_data';\n",
              "          await google.colab.output.renderOutput(dataTable, element);\n",
              "          const docLink = document.createElement('div');\n",
              "          docLink.innerHTML = docLinkHtml;\n",
              "          element.appendChild(docLink);\n",
              "        }\n",
              "      </script>\n",
              "    </div>\n",
              "  </div>\n",
              "  "
            ]
          },
          "metadata": {}
        },
        {
          "output_type": "stream",
          "name": "stdout",
          "text": [
            "<class 'pandas.core.frame.DataFrame'>\n",
            "Int64Index: 47335 entries, 0 to 48841\n",
            "Data columns (total 15 columns):\n",
            " #   Column           Non-Null Count  Dtype \n",
            "---  ------           --------------  ----- \n",
            " 0   age              47335 non-null  int64 \n",
            " 1   workclass        47335 non-null  object\n",
            " 2   fnlwgt           47335 non-null  int64 \n",
            " 3   education        47335 non-null  object\n",
            " 4   educational-num  47335 non-null  int64 \n",
            " 5   marital-status   47335 non-null  object\n",
            " 6   occupation       47335 non-null  object\n",
            " 7   relationship     47335 non-null  object\n",
            " 8   race             47335 non-null  object\n",
            " 9   gender           47335 non-null  object\n",
            " 10  capital-gain     47335 non-null  int64 \n",
            " 11  capital-loss     47335 non-null  int64 \n",
            " 12  hours-per-week   47335 non-null  int64 \n",
            " 13  native-country   47335 non-null  object\n",
            " 14  income           47335 non-null  object\n",
            "dtypes: int64(6), object(9)\n",
            "memory usage: 5.8+ MB\n"
          ]
        }
      ]
    },
    {
      "cell_type": "markdown",
      "source": [
        "## Inspect Categorical Values for Errors"
      ],
      "metadata": {
        "id": "DXQ8X7BPi_Ts"
      }
    },
    {
      "cell_type": "markdown",
      "source": [
        "- Dropping fnlwgt, relationship, educational-num these either don't contribute to predicting income or are too similar to another column."
      ],
      "metadata": {
        "id": "yNczQMgACa56"
      }
    },
    {
      "cell_type": "code",
      "source": [
        "df = df.drop(columns = [\"fnlwgt\", \"relationship\", \"educational-num\"])"
      ],
      "metadata": {
        "id": "G6uGtjqQ91BV"
      },
      "execution_count": 7,
      "outputs": []
    },
    {
      "cell_type": "code",
      "source": [
        "cat_cols = make_column_selector(dtype_include='object')(df)\n",
        "for col in cat_cols:\n",
        "  display(df[col].value_counts())"
      ],
      "metadata": {
        "colab": {
          "base_uri": "https://localhost:8080/",
          "height": 1000
        },
        "id": "RDtMoOsxjECb",
        "outputId": "ebc5e4c5-4e5a-4327-b283-654432f3ff9d"
      },
      "execution_count": 8,
      "outputs": [
        {
          "output_type": "display_data",
          "data": {
            "text/plain": [
              "Private             32769\n",
              "Self-emp-not-inc     3832\n",
              "Local-gov            3100\n",
              "?                    2544\n",
              "State-gov            1965\n",
              "Self-emp-inc         1675\n",
              "Federal-gov          1425\n",
              "Without-pay            21\n",
              "Never-worked            4\n",
              "Name: workclass, dtype: int64"
            ]
          },
          "metadata": {}
        },
        {
          "output_type": "display_data",
          "data": {
            "text/plain": [
              "HS-grad         15507\n",
              "Some-college    10669\n",
              "Bachelors        8013\n",
              "Masters          2655\n",
              "Assoc-voc        2060\n",
              "Assoc-acdm       1601\n",
              "11th             1287\n",
              "10th             1138\n",
              "7th-8th           943\n",
              "Prof-school       834\n",
              "9th               710\n",
              "Doctorate         594\n",
              "5th-6th           499\n",
              "12th              499\n",
              "1st-4th           245\n",
              "Preschool          81\n",
              "Name: education, dtype: int64"
            ]
          },
          "metadata": {}
        },
        {
          "output_type": "display_data",
          "data": {
            "text/plain": [
              "Married-civ-spouse       22352\n",
              "Never-married            14648\n",
              "Divorced                  6629\n",
              "Separated                 1529\n",
              "Widowed                   1516\n",
              "Married-spouse-absent      624\n",
              "Married-AF-spouse           37\n",
              "Name: marital-status, dtype: int64"
            ]
          },
          "metadata": {}
        },
        {
          "output_type": "display_data",
          "data": {
            "text/plain": [
              "Prof-specialty       6135\n",
              "Exec-managerial      6066\n",
              "Craft-repair         6057\n",
              "Adm-clerical         5484\n",
              "Sales                5193\n",
              "Other-service        4503\n",
              "Machine-op-inspct    2987\n",
              "?                    2548\n",
              "Transport-moving     2337\n",
              "Handlers-cleaners    1933\n",
              "Farming-fishing      1444\n",
              "Tech-support         1440\n",
              "Protective-serv       970\n",
              "Priv-house-serv       223\n",
              "Armed-Forces           15\n",
              "Name: occupation, dtype: int64"
            ]
          },
          "metadata": {}
        },
        {
          "output_type": "display_data",
          "data": {
            "text/plain": [
              "White                 40431\n",
              "Black                  4566\n",
              "Asian-Pac-Islander     1497\n",
              "Amer-Indian-Eskimo      456\n",
              "Other                   385\n",
              "Name: race, dtype: int64"
            ]
          },
          "metadata": {}
        },
        {
          "output_type": "display_data",
          "data": {
            "text/plain": [
              "Male      31880\n",
              "Female    15455\n",
              "Name: gender, dtype: int64"
            ]
          },
          "metadata": {}
        },
        {
          "output_type": "display_data",
          "data": {
            "text/plain": [
              "United-States                 42414\n",
              "Mexico                          924\n",
              "?                               842\n",
              "Philippines                     290\n",
              "Germany                         204\n",
              "Puerto-Rico                     180\n",
              "Canada                          178\n",
              "El-Salvador                     151\n",
              "India                           149\n",
              "Cuba                            137\n",
              "China                           122\n",
              "England                         122\n",
              "South                           115\n",
              "Jamaica                         105\n",
              "Italy                           104\n",
              "Dominican-Republic              102\n",
              "Japan                            92\n",
              "Vietnam                          86\n",
              "Poland                           85\n",
              "Guatemala                        85\n",
              "Columbia                         83\n",
              "Haiti                            73\n",
              "Portugal                         67\n",
              "Taiwan                           65\n",
              "Iran                             59\n",
              "Nicaragua                        49\n",
              "Greece                           49\n",
              "Ecuador                          45\n",
              "Peru                             42\n",
              "France                           38\n",
              "Ireland                          37\n",
              "Hong                             30\n",
              "Thailand                         30\n",
              "Cambodia                         27\n",
              "Trinadad&Tobago                  26\n",
              "Laos                             23\n",
              "Yugoslavia                       23\n",
              "Outlying-US(Guam-USVI-etc)       23\n",
              "Scotland                         20\n",
              "Honduras                         19\n",
              "Hungary                          19\n",
              "Holand-Netherlands                1\n",
              "Name: native-country, dtype: int64"
            ]
          },
          "metadata": {}
        },
        {
          "output_type": "display_data",
          "data": {
            "text/plain": [
              "<=50K    35654\n",
              ">50K     11681\n",
              "Name: income, dtype: int64"
            ]
          },
          "metadata": {}
        }
      ]
    },
    {
      "cell_type": "markdown",
      "source": [
        "- Dropping rows with \"Without-pay\", \"Never-worked\" in workclass, this data does not help us predict income\n"
      ],
      "metadata": {
        "id": "UZzA8FJ3xV4K"
      }
    },
    {
      "cell_type": "code",
      "source": [
        "workclass_filter = df[\"workclass\"]==\"Never-worked\"\n",
        "workclass_wo_filter = df[\"workclass\"]==\"Without-pay\"\n"
      ],
      "metadata": {
        "id": "5b8Ge82FGBXA"
      },
      "execution_count": 9,
      "outputs": []
    },
    {
      "cell_type": "code",
      "source": [
        "df = df[~workclass_filter]\n",
        "df = df [~workclass_wo_filter]\n",
        "df[\"workclass\"] = df[\"workclass\"].replace(\"?\",\"Unknown\")\n",
        "df[\"workclass\"].value_counts()"
      ],
      "metadata": {
        "colab": {
          "base_uri": "https://localhost:8080/"
        },
        "id": "doz38XBUgDpl",
        "outputId": "79e955c6-866f-42ab-d60c-62775edcd933"
      },
      "execution_count": 10,
      "outputs": [
        {
          "output_type": "stream",
          "name": "stderr",
          "text": [
            "<ipython-input-10-949374c5d267>:2: UserWarning: Boolean Series key will be reindexed to match DataFrame index.\n",
            "  df = df [~workclass_wo_filter]\n",
            "<ipython-input-10-949374c5d267>:3: SettingWithCopyWarning: \n",
            "A value is trying to be set on a copy of a slice from a DataFrame.\n",
            "Try using .loc[row_indexer,col_indexer] = value instead\n",
            "\n",
            "See the caveats in the documentation: https://pandas.pydata.org/pandas-docs/stable/user_guide/indexing.html#returning-a-view-versus-a-copy\n",
            "  df[\"workclass\"] = df[\"workclass\"].replace(\"?\",\"Unknown\")\n"
          ]
        },
        {
          "output_type": "execute_result",
          "data": {
            "text/plain": [
              "Private             32769\n",
              "Self-emp-not-inc     3832\n",
              "Local-gov            3100\n",
              "Unknown              2544\n",
              "State-gov            1965\n",
              "Self-emp-inc         1675\n",
              "Federal-gov          1425\n",
              "Name: workclass, dtype: int64"
            ]
          },
          "metadata": {},
          "execution_count": 10
        }
      ]
    },
    {
      "cell_type": "markdown",
      "source": [
        "- Combining data into categories that are easier to follow."
      ],
      "metadata": {
        "id": "Ie438TxwKIlL"
      }
    },
    {
      "cell_type": "code",
      "source": [
        " df[\"workclass\"] = df[\"workclass\"].replace({\"Self-emp-not-inc\": \"Self-Emp\", \n",
        "                               \"Self-emp-inc\": \"Self-Emp\",\n",
        "                               \"Local-gov\":\"Gov\",\n",
        "                               \"State-gov\":\"Gov\",\n",
        "                               \"Federal-gov\":\"Gov\"})"
      ],
      "metadata": {
        "id": "vnVx-f2LI7km",
        "colab": {
          "base_uri": "https://localhost:8080/"
        },
        "outputId": "ab631bbc-cb95-45ce-91ed-90f19691c38a"
      },
      "execution_count": 11,
      "outputs": [
        {
          "output_type": "stream",
          "name": "stderr",
          "text": [
            "<ipython-input-11-03ce82bf734f>:1: SettingWithCopyWarning: \n",
            "A value is trying to be set on a copy of a slice from a DataFrame.\n",
            "Try using .loc[row_indexer,col_indexer] = value instead\n",
            "\n",
            "See the caveats in the documentation: https://pandas.pydata.org/pandas-docs/stable/user_guide/indexing.html#returning-a-view-versus-a-copy\n",
            "  df[\"workclass\"] = df[\"workclass\"].replace({\"Self-emp-not-inc\": \"Self-Emp\",\n"
          ]
        }
      ]
    },
    {
      "cell_type": "code",
      "source": [
        " df[\"marital-status\"] = df[\"marital-status\"].replace({\"Married-civ-spouse\": \"Married\", \n",
        "                               \"Married-spouse-absent\":\"Married\",\n",
        "                               \"Married-AF-spouse\":\"Married\",\n",
        "                               \"Never-married\":\"Single\",\n",
        "                               \"Divorced\":\"Single\",\n",
        "                               \"Separated\":\"Single\",\n",
        "                               \"Widowed\":\"Single\"})"
      ],
      "metadata": {
        "id": "5Kl6JGLJhrU9",
        "colab": {
          "base_uri": "https://localhost:8080/"
        },
        "outputId": "6db3b9bc-c7db-4b27-a69b-bef39283fe7e"
      },
      "execution_count": 12,
      "outputs": [
        {
          "output_type": "stream",
          "name": "stderr",
          "text": [
            "<ipython-input-12-b936a45567c1>:1: SettingWithCopyWarning: \n",
            "A value is trying to be set on a copy of a slice from a DataFrame.\n",
            "Try using .loc[row_indexer,col_indexer] = value instead\n",
            "\n",
            "See the caveats in the documentation: https://pandas.pydata.org/pandas-docs/stable/user_guide/indexing.html#returning-a-view-versus-a-copy\n",
            "  df[\"marital-status\"] = df[\"marital-status\"].replace({\"Married-civ-spouse\": \"Married\",\n"
          ]
        }
      ]
    },
    {
      "cell_type": "code",
      "source": [
        " df[\"education\"] = df[\"education\"].replace({\"12th\": \"HS-Grad\", \n",
        "                               \"11th\":\"Non-HS-Grad\",\n",
        "                               \"10th\":\"Non-HS-Grad\",\n",
        "                               \"9th\":\"Non-HS-Grad\",\n",
        "                               \"7th-8th\":\"Non-HS-Grad\",\n",
        "                               \"5th-6th\":\"Non-HS-Grad\",\n",
        "                               \"1st-4th\":\"Non-HS-Grad\",\n",
        "                               \"Preschool\":\"Non-HS-Grad\",\n",
        "                               \"Assoc-voc\":\"Assoc\",\n",
        "                               \"Assoc-acdm\":\"Assoc\"})"
      ],
      "metadata": {
        "id": "bHqhCrR4KRAY"
      },
      "execution_count": 13,
      "outputs": []
    },
    {
      "cell_type": "code",
      "source": [
        " df[\"native-country\"] = df[\"native-country\"].replace({\"South\": \"Unknown\", \n",
        "                               \"?\":\"Unknown\"})"
      ],
      "metadata": {
        "id": "dv2s-hHSGNoG"
      },
      "execution_count": 14,
      "outputs": []
    },
    {
      "cell_type": "code",
      "source": [
        "#Checking our overall data\n",
        "df.info()\n",
        "df.head()"
      ],
      "metadata": {
        "colab": {
          "base_uri": "https://localhost:8080/",
          "height": 536
        },
        "id": "gFR_ZEUnOTB2",
        "outputId": "0567ee7c-1c69-4dee-93ee-ae9f16ae7d24"
      },
      "execution_count": 16,
      "outputs": [
        {
          "output_type": "stream",
          "name": "stdout",
          "text": [
            "<class 'pandas.core.frame.DataFrame'>\n",
            "Int64Index: 47310 entries, 0 to 48841\n",
            "Data columns (total 12 columns):\n",
            " #   Column          Non-Null Count  Dtype \n",
            "---  ------          --------------  ----- \n",
            " 0   age             47310 non-null  int64 \n",
            " 1   workclass       47310 non-null  object\n",
            " 2   education       47310 non-null  object\n",
            " 3   marital-status  47310 non-null  object\n",
            " 4   occupation      47310 non-null  object\n",
            " 5   race            47310 non-null  object\n",
            " 6   gender          47310 non-null  object\n",
            " 7   capital-gain    47310 non-null  int64 \n",
            " 8   capital-loss    47310 non-null  int64 \n",
            " 9   hours-per-week  47310 non-null  int64 \n",
            " 10  native-country  47310 non-null  object\n",
            " 11  income          47310 non-null  object\n",
            "dtypes: int64(4), object(8)\n",
            "memory usage: 4.7+ MB\n"
          ]
        },
        {
          "output_type": "execute_result",
          "data": {
            "text/plain": [
              "   age workclass     education marital-status         occupation   race  \\\n",
              "0   25   Private   Non-HS-Grad         Single  Machine-op-inspct  Black   \n",
              "1   38   Private       HS-grad        Married    Farming-fishing  White   \n",
              "2   28       Gov         Assoc        Married    Protective-serv  White   \n",
              "3   44   Private  Some-college        Married  Machine-op-inspct  Black   \n",
              "5   34   Private   Non-HS-Grad         Single      Other-service  White   \n",
              "\n",
              "  gender  capital-gain  capital-loss  hours-per-week native-country income  \n",
              "0   Male             0             0              40  United-States  <=50K  \n",
              "1   Male             0             0              50  United-States  <=50K  \n",
              "2   Male             0             0              40  United-States   >50K  \n",
              "3   Male          7688             0              40  United-States   >50K  \n",
              "5   Male             0             0              30  United-States  <=50K  "
            ],
            "text/html": [
              "\n",
              "  <div id=\"df-fd264ae8-a8f2-49db-ab15-0b0551356035\">\n",
              "    <div class=\"colab-df-container\">\n",
              "      <div>\n",
              "<style scoped>\n",
              "    .dataframe tbody tr th:only-of-type {\n",
              "        vertical-align: middle;\n",
              "    }\n",
              "\n",
              "    .dataframe tbody tr th {\n",
              "        vertical-align: top;\n",
              "    }\n",
              "\n",
              "    .dataframe thead th {\n",
              "        text-align: right;\n",
              "    }\n",
              "</style>\n",
              "<table border=\"1\" class=\"dataframe\">\n",
              "  <thead>\n",
              "    <tr style=\"text-align: right;\">\n",
              "      <th></th>\n",
              "      <th>age</th>\n",
              "      <th>workclass</th>\n",
              "      <th>education</th>\n",
              "      <th>marital-status</th>\n",
              "      <th>occupation</th>\n",
              "      <th>race</th>\n",
              "      <th>gender</th>\n",
              "      <th>capital-gain</th>\n",
              "      <th>capital-loss</th>\n",
              "      <th>hours-per-week</th>\n",
              "      <th>native-country</th>\n",
              "      <th>income</th>\n",
              "    </tr>\n",
              "  </thead>\n",
              "  <tbody>\n",
              "    <tr>\n",
              "      <th>0</th>\n",
              "      <td>25</td>\n",
              "      <td>Private</td>\n",
              "      <td>Non-HS-Grad</td>\n",
              "      <td>Single</td>\n",
              "      <td>Machine-op-inspct</td>\n",
              "      <td>Black</td>\n",
              "      <td>Male</td>\n",
              "      <td>0</td>\n",
              "      <td>0</td>\n",
              "      <td>40</td>\n",
              "      <td>United-States</td>\n",
              "      <td>&lt;=50K</td>\n",
              "    </tr>\n",
              "    <tr>\n",
              "      <th>1</th>\n",
              "      <td>38</td>\n",
              "      <td>Private</td>\n",
              "      <td>HS-grad</td>\n",
              "      <td>Married</td>\n",
              "      <td>Farming-fishing</td>\n",
              "      <td>White</td>\n",
              "      <td>Male</td>\n",
              "      <td>0</td>\n",
              "      <td>0</td>\n",
              "      <td>50</td>\n",
              "      <td>United-States</td>\n",
              "      <td>&lt;=50K</td>\n",
              "    </tr>\n",
              "    <tr>\n",
              "      <th>2</th>\n",
              "      <td>28</td>\n",
              "      <td>Gov</td>\n",
              "      <td>Assoc</td>\n",
              "      <td>Married</td>\n",
              "      <td>Protective-serv</td>\n",
              "      <td>White</td>\n",
              "      <td>Male</td>\n",
              "      <td>0</td>\n",
              "      <td>0</td>\n",
              "      <td>40</td>\n",
              "      <td>United-States</td>\n",
              "      <td>&gt;50K</td>\n",
              "    </tr>\n",
              "    <tr>\n",
              "      <th>3</th>\n",
              "      <td>44</td>\n",
              "      <td>Private</td>\n",
              "      <td>Some-college</td>\n",
              "      <td>Married</td>\n",
              "      <td>Machine-op-inspct</td>\n",
              "      <td>Black</td>\n",
              "      <td>Male</td>\n",
              "      <td>7688</td>\n",
              "      <td>0</td>\n",
              "      <td>40</td>\n",
              "      <td>United-States</td>\n",
              "      <td>&gt;50K</td>\n",
              "    </tr>\n",
              "    <tr>\n",
              "      <th>5</th>\n",
              "      <td>34</td>\n",
              "      <td>Private</td>\n",
              "      <td>Non-HS-Grad</td>\n",
              "      <td>Single</td>\n",
              "      <td>Other-service</td>\n",
              "      <td>White</td>\n",
              "      <td>Male</td>\n",
              "      <td>0</td>\n",
              "      <td>0</td>\n",
              "      <td>30</td>\n",
              "      <td>United-States</td>\n",
              "      <td>&lt;=50K</td>\n",
              "    </tr>\n",
              "  </tbody>\n",
              "</table>\n",
              "</div>\n",
              "      <button class=\"colab-df-convert\" onclick=\"convertToInteractive('df-fd264ae8-a8f2-49db-ab15-0b0551356035')\"\n",
              "              title=\"Convert this dataframe to an interactive table.\"\n",
              "              style=\"display:none;\">\n",
              "        \n",
              "  <svg xmlns=\"http://www.w3.org/2000/svg\" height=\"24px\"viewBox=\"0 0 24 24\"\n",
              "       width=\"24px\">\n",
              "    <path d=\"M0 0h24v24H0V0z\" fill=\"none\"/>\n",
              "    <path d=\"M18.56 5.44l.94 2.06.94-2.06 2.06-.94-2.06-.94-.94-2.06-.94 2.06-2.06.94zm-11 1L8.5 8.5l.94-2.06 2.06-.94-2.06-.94L8.5 2.5l-.94 2.06-2.06.94zm10 10l.94 2.06.94-2.06 2.06-.94-2.06-.94-.94-2.06-.94 2.06-2.06.94z\"/><path d=\"M17.41 7.96l-1.37-1.37c-.4-.4-.92-.59-1.43-.59-.52 0-1.04.2-1.43.59L10.3 9.45l-7.72 7.72c-.78.78-.78 2.05 0 2.83L4 21.41c.39.39.9.59 1.41.59.51 0 1.02-.2 1.41-.59l7.78-7.78 2.81-2.81c.8-.78.8-2.07 0-2.86zM5.41 20L4 18.59l7.72-7.72 1.47 1.35L5.41 20z\"/>\n",
              "  </svg>\n",
              "      </button>\n",
              "      \n",
              "  <style>\n",
              "    .colab-df-container {\n",
              "      display:flex;\n",
              "      flex-wrap:wrap;\n",
              "      gap: 12px;\n",
              "    }\n",
              "\n",
              "    .colab-df-convert {\n",
              "      background-color: #E8F0FE;\n",
              "      border: none;\n",
              "      border-radius: 50%;\n",
              "      cursor: pointer;\n",
              "      display: none;\n",
              "      fill: #1967D2;\n",
              "      height: 32px;\n",
              "      padding: 0 0 0 0;\n",
              "      width: 32px;\n",
              "    }\n",
              "\n",
              "    .colab-df-convert:hover {\n",
              "      background-color: #E2EBFA;\n",
              "      box-shadow: 0px 1px 2px rgba(60, 64, 67, 0.3), 0px 1px 3px 1px rgba(60, 64, 67, 0.15);\n",
              "      fill: #174EA6;\n",
              "    }\n",
              "\n",
              "    [theme=dark] .colab-df-convert {\n",
              "      background-color: #3B4455;\n",
              "      fill: #D2E3FC;\n",
              "    }\n",
              "\n",
              "    [theme=dark] .colab-df-convert:hover {\n",
              "      background-color: #434B5C;\n",
              "      box-shadow: 0px 1px 3px 1px rgba(0, 0, 0, 0.15);\n",
              "      filter: drop-shadow(0px 1px 2px rgba(0, 0, 0, 0.3));\n",
              "      fill: #FFFFFF;\n",
              "    }\n",
              "  </style>\n",
              "\n",
              "      <script>\n",
              "        const buttonEl =\n",
              "          document.querySelector('#df-fd264ae8-a8f2-49db-ab15-0b0551356035 button.colab-df-convert');\n",
              "        buttonEl.style.display =\n",
              "          google.colab.kernel.accessAllowed ? 'block' : 'none';\n",
              "\n",
              "        async function convertToInteractive(key) {\n",
              "          const element = document.querySelector('#df-fd264ae8-a8f2-49db-ab15-0b0551356035');\n",
              "          const dataTable =\n",
              "            await google.colab.kernel.invokeFunction('convertToInteractive',\n",
              "                                                     [key], {});\n",
              "          if (!dataTable) return;\n",
              "\n",
              "          const docLinkHtml = 'Like what you see? Visit the ' +\n",
              "            '<a target=\"_blank\" href=https://colab.research.google.com/notebooks/data_table.ipynb>data table notebook</a>'\n",
              "            + ' to learn more about interactive tables.';\n",
              "          element.innerHTML = '';\n",
              "          dataTable['output_type'] = 'display_data';\n",
              "          await google.colab.output.renderOutput(dataTable, element);\n",
              "          const docLink = document.createElement('div');\n",
              "          docLink.innerHTML = docLinkHtml;\n",
              "          element.appendChild(docLink);\n",
              "        }\n",
              "      </script>\n",
              "    </div>\n",
              "  </div>\n",
              "  "
            ]
          },
          "metadata": {},
          "execution_count": 16
        }
      ]
    },
    {
      "cell_type": "markdown",
      "source": [
        "## Missing Values"
      ],
      "metadata": {
        "id": "BfyqJRH0FztY"
      }
    },
    {
      "cell_type": "code",
      "source": [
        "## Display the total number of missing values\n",
        "print(f'There are {df.isna().sum().sum()} missing values.')"
      ],
      "metadata": {
        "colab": {
          "base_uri": "https://localhost:8080/"
        },
        "id": "omepT1wwF1qY",
        "outputId": "174f0c4d-8bba-4084-89f6-85ba4d857f04"
      },
      "execution_count": 17,
      "outputs": [
        {
          "output_type": "stream",
          "name": "stdout",
          "text": [
            "There are 0 missing values.\n"
          ]
        }
      ]
    },
    {
      "cell_type": "code",
      "source": [
        "#the percentage of missing values by column\n",
        "print(df.isna().sum()/len(df)*100)"
      ],
      "metadata": {
        "colab": {
          "base_uri": "https://localhost:8080/"
        },
        "id": "gsEfuCyIF9Qj",
        "outputId": "ec0f07d7-99a4-408c-dd4b-9cd73194ef1b"
      },
      "execution_count": 18,
      "outputs": [
        {
          "output_type": "stream",
          "name": "stdout",
          "text": [
            "age               0.0\n",
            "workclass         0.0\n",
            "education         0.0\n",
            "marital-status    0.0\n",
            "occupation        0.0\n",
            "race              0.0\n",
            "gender            0.0\n",
            "capital-gain      0.0\n",
            "capital-loss      0.0\n",
            "hours-per-week    0.0\n",
            "native-country    0.0\n",
            "income            0.0\n",
            "dtype: float64\n"
          ]
        }
      ]
    },
    {
      "cell_type": "markdown",
      "source": [
        "#Exploratory Univariate Visuals"
      ],
      "metadata": {
        "id": "u8K6ivV6XyEE"
      }
    },
    {
      "cell_type": "code",
      "source": [
        "df.info()"
      ],
      "metadata": {
        "colab": {
          "base_uri": "https://localhost:8080/"
        },
        "id": "WnJjSdx-31ma",
        "outputId": "a9cb52d9-0760-4bd3-b08c-a56cef6664ba"
      },
      "execution_count": 19,
      "outputs": [
        {
          "output_type": "stream",
          "name": "stdout",
          "text": [
            "<class 'pandas.core.frame.DataFrame'>\n",
            "Int64Index: 47310 entries, 0 to 48841\n",
            "Data columns (total 12 columns):\n",
            " #   Column          Non-Null Count  Dtype \n",
            "---  ------          --------------  ----- \n",
            " 0   age             47310 non-null  int64 \n",
            " 1   workclass       47310 non-null  object\n",
            " 2   education       47310 non-null  object\n",
            " 3   marital-status  47310 non-null  object\n",
            " 4   occupation      47310 non-null  object\n",
            " 5   race            47310 non-null  object\n",
            " 6   gender          47310 non-null  object\n",
            " 7   capital-gain    47310 non-null  int64 \n",
            " 8   capital-loss    47310 non-null  int64 \n",
            " 9   hours-per-week  47310 non-null  int64 \n",
            " 10  native-country  47310 non-null  object\n",
            " 11  income          47310 non-null  object\n",
            "dtypes: int64(4), object(8)\n",
            "memory usage: 4.7+ MB\n"
          ]
        }
      ]
    },
    {
      "cell_type": "code",
      "source": [
        "fig = plt.figure(figsize =(8, 5))\n",
        "ax = sns.boxplot( x=\"age\", data=df)\n",
        "ax.set_title(\"Age\", fontsize = 15);\n",
        "ax.set_xlabel('')"
      ],
      "metadata": {
        "id": "8M1iPc83XxMi",
        "colab": {
          "base_uri": "https://localhost:8080/",
          "height": 355
        },
        "outputId": "e1bbca2a-5d83-41b4-8473-5fab6935ff64"
      },
      "execution_count": 20,
      "outputs": [
        {
          "output_type": "execute_result",
          "data": {
            "text/plain": [
              "Text(0.5, 0, '')"
            ]
          },
          "metadata": {},
          "execution_count": 20
        },
        {
          "output_type": "display_data",
          "data": {
            "text/plain": [
              "<Figure size 576x360 with 1 Axes>"
            ],
            "image/png": "[encoded data removed]"
          },
          "metadata": {
            "needs_background": "light"
          }
        }
      ]
    },
    {
      "cell_type": "markdown",
      "source": [
        "- Outliers are ages from 77 years and up"
      ],
      "metadata": {
        "id": "BVfUD2Dl5w57"
      }
    },
    {
      "cell_type": "code",
      "source": [
        "fig = plt.figure(figsize =(8, 5))\n",
        "ax = sns.histplot( x = \"workclass\", data=df)\n",
        "plt.xticks(rotation=45)\n",
        "ax.set_ylabel('Number of People',fontsize = 15)\n",
        "ax.set_xlabel('Type Of Job', fontsize = 15)\n",
        "ax.set_title(\"Work Class\")"
      ],
      "metadata": {
        "colab": {
          "base_uri": "https://localhost:8080/",
          "height": 402
        },
        "id": "27zg3bO655uQ",
        "outputId": "37fd43ae-0070-49c2-cd7d-d78e6e514c64"
      },
      "execution_count": 21,
      "outputs": [
        {
          "output_type": "execute_result",
          "data": {
            "text/plain": [
              "Text(0.5, 1.0, 'Work Class')"
            ]
          },
          "metadata": {},
          "execution_count": 21
        },
        {
          "output_type": "display_data",
          "data": {
            "text/plain": [
              "<Figure size 576x360 with 1 Axes>"
            ],
            "image/png": "[encoded data removed]"
          },
          "metadata": {
            "needs_background": "light"
          }
        }
      ]
    },
    {
      "cell_type": "markdown",
      "source": [
        "- Outlier : Private"
      ],
      "metadata": {
        "id": "JDOJyW9rUUAl"
      }
    },
    {
      "cell_type": "code",
      "source": [
        "fig = plt.figure(figsize =(8, 5))\n",
        "ax = sns.histplot( x = \"education\", data=df)\n",
        "plt.xticks(rotation=45)\n",
        "ax.set_ylabel('Number of People',fontsize = 15)\n",
        "ax.set_xlabel('Highest Lvl of Education', fontsize = 15)\n",
        "ax.set_title(\"Education\", fontsize = 15);"
      ],
      "metadata": {
        "colab": {
          "base_uri": "https://localhost:8080/",
          "height": 402
        },
        "id": "t1JYxis4RJuZ",
        "outputId": "a31fbb5c-9101-4911-9049-a37951db7e20"
      },
      "execution_count": 22,
      "outputs": [
        {
          "output_type": "display_data",
          "data": {
            "text/plain": [
              "<Figure size 576x360 with 1 Axes>"
            ],
            "image/png": "[encoded data removed]"
          },
          "metadata": {
            "needs_background": "light"
          }
        }
      ]
    },
    {
      "cell_type": "markdown",
      "source": [
        "- Outliers here seems to be HS gradutates, Prof-school, Doctorate, and HS-Grad."
      ],
      "metadata": {
        "id": "KuA263aj1njy"
      }
    },
    {
      "cell_type": "code",
      "source": [
        "fig = plt.figure(figsize =(8, 5))\n",
        "ax = sns.histplot( x = \"marital-status\", data=df )\n",
        "plt.xticks(rotation = 45)\n",
        "ax.set_ylabel('Number of People',fontsize = 15)\n",
        "ax.set_xlabel('Status', fontsize = 15)\n",
        "ax.set_title(\"Marital Status\", fontsize = 15);"
      ],
      "metadata": {
        "colab": {
          "base_uri": "https://localhost:8080/",
          "height": 381
        },
        "id": "4_CWhPa_VdN1",
        "outputId": "bbed6e13-5a15-4a59-f067-01ab5b06cf50"
      },
      "execution_count": 23,
      "outputs": [
        {
          "output_type": "display_data",
          "data": {
            "text/plain": [
              "<Figure size 576x360 with 1 Axes>"
            ],
            "image/png": "[encoded data removed]"
          },
          "metadata": {
            "needs_background": "light"
          }
        }
      ]
    },
    {
      "cell_type": "markdown",
      "source": [
        "- Outlier: none"
      ],
      "metadata": {
        "id": "EHnnOUoMvODA"
      }
    },
    {
      "cell_type": "code",
      "source": [
        "fig = plt.figure(figsize =(8, 5))\n",
        "ax = sns.histplot( x = \"race\", data=df )\n",
        "plt.xticks(rotation = 45)\n",
        "ax.set_ylabel('Number of People',fontsize = 15)\n",
        "ax.set_xlabel('')\n",
        "ax.set_title(\"Race\", fontsize = 15);"
      ],
      "metadata": {
        "colab": {
          "base_uri": "https://localhost:8080/",
          "height": 406
        },
        "id": "w5YUpbYaT3Im",
        "outputId": "8283846d-7c8e-48c1-e021-2905ed764cfe"
      },
      "execution_count": 24,
      "outputs": [
        {
          "output_type": "display_data",
          "data": {
            "text/plain": [
              "<Figure size 576x360 with 1 Axes>"
            ],
            "image/png": "[encoded data removed]"
          },
          "metadata": {
            "needs_background": "light"
          }
        }
      ]
    },
    {
      "cell_type": "markdown",
      "source": [
        "- Outlier : White People"
      ],
      "metadata": {
        "id": "r-44pVddVQHM"
      }
    },
    {
      "cell_type": "code",
      "source": [
        "fig = plt.figure(figsize =(8, 5))\n",
        "ax = sns.histplot( x = \"gender\", data=df )\n",
        "plt.xticks(rotation = 45)\n",
        "ax.set_ylabel('Number of People',fontsize = 15)\n",
        "ax.set_xlabel('')\n",
        "ax.set_title(\"Gender\", fontsize = 15);"
      ],
      "metadata": {
        "colab": {
          "base_uri": "https://localhost:8080/",
          "height": 360
        },
        "id": "sTfH06EXVYW3",
        "outputId": "f5c79195-1468-4d99-c733-17313e7af056"
      },
      "execution_count": 25,
      "outputs": [
        {
          "output_type": "display_data",
          "data": {
            "text/plain": [
              "<Figure size 576x360 with 1 Axes>"
            ],
            "image/png": "[encoded data removed]"
          },
          "metadata": {
            "needs_background": "light"
          }
        }
      ]
    },
    {
      "cell_type": "code",
      "source": [
        "fig = plt.figure(figsize =(8, 5))\n",
        "ax = sns.histplot( x = \"capital-gain\", data=df, bins = 5)\n",
        "plt.xticks(rotation = 45)\n",
        "ax.set_ylabel('Number of People',fontsize = 15)\n",
        "ax.set_xlabel('Euros', fontsize = 15)\n",
        "ax.set_title(\"Capital Gain\", fontsize = 15);"
      ],
      "metadata": {
        "colab": {
          "base_uri": "https://localhost:8080/",
          "height": 380
        },
        "id": "XzakwO7TWGrh",
        "outputId": "a4cf06ae-34b5-44ac-abd1-cf36830d2f2f"
      },
      "execution_count": 26,
      "outputs": [
        {
          "output_type": "display_data",
          "data": {
            "text/plain": [
              "<Figure size 576x360 with 1 Axes>"
            ],
            "image/png": "[encoded data removed]"
          },
          "metadata": {
            "needs_background": "light"
          }
        }
      ]
    },
    {
      "cell_type": "markdown",
      "source": [
        "- Outlier: number of people who have contributed toward 0-20000 of capital gain"
      ],
      "metadata": {
        "id": "PrBYAkcCfHJF"
      }
    },
    {
      "cell_type": "code",
      "source": [
        "fig = plt.figure(figsize =(8, 5))\n",
        "ax = sns.histplot( x = \"capital-loss\", data=df, bins = 10)\n",
        "plt.xticks(rotation = 45)\n",
        "ax.set_ylabel('Number of People',fontsize = 15)\n",
        "ax.set_xlabel('Euros', fontsize = 15)"
      ],
      "metadata": {
        "colab": {
          "base_uri": "https://localhost:8080/",
          "height": 371
        },
        "id": "Y_Bc6lkiZcgL",
        "outputId": "8d9877d7-ee7d-49fd-bff4-a8ba49036419"
      },
      "execution_count": 27,
      "outputs": [
        {
          "output_type": "execute_result",
          "data": {
            "text/plain": [
              "Text(0.5, 0, 'Euros')"
            ]
          },
          "metadata": {},
          "execution_count": 27
        },
        {
          "output_type": "display_data",
          "data": {
            "text/plain": [
              "<Figure size 576x360 with 1 Axes>"
            ],
            "image/png": "[encoded data removed]"
          },
          "metadata": {
            "needs_background": "light"
          }
        }
      ]
    },
    {
      "cell_type": "markdown",
      "source": [
        "- Outlier: number of people who have contributed toward 0-500 of capital loss"
      ],
      "metadata": {
        "id": "aMIWd8qOEHEE"
      }
    },
    {
      "cell_type": "code",
      "source": [
        "fig = plt.figure(figsize =(8, 5))\n",
        "ax = sns.histplot( x = \"hours-per-week\", data=df, bins = 10 )\n",
        "ax.set_ylabel('Number of People',fontsize = 15)\n",
        "ax.set_xlabel('Hours', fontsize = 15)\n",
        "ax.set_title(\"Hours Per Week\", fontsize = 15);"
      ],
      "metadata": {
        "colab": {
          "base_uri": "https://localhost:8080/",
          "height": 357
        },
        "id": "kmOs9DhEZqQJ",
        "outputId": "d0ac1043-725c-45b4-bcc5-6590f3cfee68"
      },
      "execution_count": 28,
      "outputs": [
        {
          "output_type": "display_data",
          "data": {
            "text/plain": [
              "<Figure size 576x360 with 1 Axes>"
            ],
            "image/png": "[encoded data removed]"
          },
          "metadata": {
            "needs_background": "light"
          }
        }
      ]
    },
    {
      "cell_type": "markdown",
      "source": [
        "- Outlier: 30-40 hours"
      ],
      "metadata": {
        "id": "OeNDoyBOEP2r"
      }
    },
    {
      "cell_type": "code",
      "source": [
        "fig = plt.figure(figsize =(10, 10))\n",
        "ax = sns.histplot( y = \"native-country\", data=df )\n",
        "plt.xticks(rotation = 45)\n",
        "ax.set_ylabel('Native Country',fontsize = 15)\n",
        "ax.set_xlabel('Number of People', fontsize = 15)\n",
        "ax.set_title(\"Native Country\", fontsize = 15);"
      ],
      "metadata": {
        "colab": {
          "base_uri": "https://localhost:8080/",
          "height": 648
        },
        "id": "P3x6LEpxZyL0",
        "outputId": "16af5a77-6145-4472-e8d3-cab8409a08f7"
      },
      "execution_count": 29,
      "outputs": [
        {
          "output_type": "display_data",
          "data": {
            "text/plain": [
              "<Figure size 720x720 with 1 Axes>"
            ],
            "image/png": "[encoded data removed]"
          },
          "metadata": {
            "needs_background": "light"
          }
        }
      ]
    },
    {
      "cell_type": "markdown",
      "source": [
        "- Outlier: United States"
      ],
      "metadata": {
        "id": "nhE_Z8GKG1LT"
      }
    },
    {
      "cell_type": "code",
      "source": [
        "fig = plt.figure(figsize =(8, 5))\n",
        "ax = sns.histplot( x = \"income\", data=df)\n",
        "ax.set_ylabel('Number of People',fontsize = 15)\n",
        "ax.set_xlabel('Euros',fontsize = 15)\n",
        "ax.set_title(\"Income\",fontsize = 15)"
      ],
      "metadata": {
        "colab": {
          "base_uri": "https://localhost:8080/",
          "height": 374
        },
        "id": "0SHb2sHdaA0c",
        "outputId": "12434af5-e16f-4fcc-bcfe-11cb9a0974e9"
      },
      "execution_count": 36,
      "outputs": [
        {
          "output_type": "execute_result",
          "data": {
            "text/plain": [
              "Text(0.5, 1.0, 'Income')"
            ]
          },
          "metadata": {},
          "execution_count": 36
        },
        {
          "output_type": "display_data",
          "data": {
            "text/plain": [
              "<Figure size 576x360 with 1 Axes>"
            ],
            "image/png": "[encoded data removed]"
          },
          "metadata": {
            "needs_background": "light"
          }
        }
      ]
    },
    {
      "cell_type": "markdown",
      "source": [
        "- Outlier: Over 10000 people making less than 50k"
      ],
      "metadata": {
        "id": "8CY082NYImOA"
      }
    }
  ]
}